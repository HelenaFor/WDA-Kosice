{
 "cells": [
  {
   "cell_type": "markdown",
   "metadata": {},
   "source": [
    "## Dátová množina - Telco Customer (záverečné zadanie)\n",
    "\n",
    "Pre účely zadania budeme pracovať s dátamo v oblasti telekomunikácií. Dataset (súbor `Telecom-Churn.csv` v adresári `data`) obsahuje informácie o zákazníkoch telekomunikačného operátora vrátane informácií o nich samotných a informáciach o službách, ktoré u daného operátora majú aktivované. \n",
    "Cieľom je vytvoriť prediktívny model, ktorý bude predpovedať (na základe informácií o zákazníkoch), či od telekomunikačného operátora odídu alebo nie (atribút `Churn`). \n",
    "\n",
    "Popis dát:\n",
    "\n",
    "* customerID - identifikátor zákazníka\n",
    "* gender - pohlavie zákazníka\n",
    "* SeniorCitizen - udáva, či je zákazník senior, alebo nie (1, 0)\n",
    "* Partner - udáva, či má zákazník partnera, alebo nie (Yes, No)\n",
    "* Dependents - udáva, či má zákazník ľudí na ňom závislých alebo nie (Yes, No)\n",
    "* tenure - ako dlho je už zákazník zákazníkom telekomunikačnej spoločnosti (v mesiacoch)\n",
    "* PhoneService - udáva, či zákazník má telefonickú službu alebo nie (Yes, No)\n",
    "* MultipleLines - či zákazník používa viacero liniek (čísel) (Yes, No, No phone service)\n",
    "* InternetService - typ pripojenia zákanzíkna na internet (DSL, Fiber optic, No)\n",
    "* OnlineSecurity - udáva, či používateľ používa službu zabezpečenia pripojenia (Yes, No, No internet service)\n",
    "* OnlineBackup - udáva, či používateľ používa službu online zálohovania (Yes, No, No internet service)\n",
    "* DeviceProtectionWhether - používanie zabezpečenia zariadenia (Yes, No, No internet service)\n",
    "* TechSupport - služba technickej podpory (Yes, No, No internet service)\n",
    "* StreamingTV - služba streamovanej televízie (Yes, No, No internet service)\n",
    "* StreamingMovies - služba streamovania filmov (Yes, No, No internet service)\n",
    "* Contract - typ kontraktu, ktorý zákazník uzavrel (Month-to-month, One year, Two year)\n",
    "* PaperlessBilling - či má aktivovanú službu výpisov účtov elektronicky (Yes, No)\n",
    "* PaymentMethod - spôsob platby (Electronic check, Mailed check, Bank transfer (automatic), Credit card (automatic))\n",
    "* MonthlyCharges - mesačná výška platby\n",
    "* TotalCharges - celková výška platby\n",
    "* Churn - cieľový atribút - či používateľ odišiel od operátora alebo nie (Yes or No)\n"
   ]
  },
  {
   "cell_type": "markdown",
   "metadata": {},
   "source": [
    "### Úloha 1 - Načítanie dát (2b)\n",
    "\n",
    "Načítajte dáta do dátového rámca a odstráňte nepotrebné atribúty, ktoré sa nedajú využiť pri analýze dát."
   ]
  },
  {
   "cell_type": "code",
   "execution_count": null,
   "metadata": {},
   "outputs": [],
   "source": [
    "import pandas as pd\n",
    "import numpy as np\n",
    "import matplotlib.pyplot as plt\n",
    "import seaborn as sns\n",
    "\n",
    "%matplotlib inline\n",
    "sns.set()\n",
    "\n",
    "# nacitanie dat\n",
    "\n",
    "data = pd.read_csv(\"../data/Telecom-Churn.csv\")\n",
    "data.head()"
   ]
  },
  {
   "cell_type": "code",
   "execution_count": null,
   "metadata": {},
   "outputs": [],
   "source": [
    "# dropneme ID zakaznika ako neuzitocny atribut\n",
    "data.drop(columns=['CustomerID', 'Unnamed: 0'], inplace = True)\n",
    "data.head()"
   ]
  },
  {
   "cell_type": "markdown",
   "metadata": {},
   "source": [
    "### Úloha 2 - Základné štatistiky (4b)\n",
    "\n",
    "* Pre číselné atribúty vypočítajte základné štatistiky a vizualizujte distribúciu pravdepodobnosti výskytu hodnôt.\n",
    "* Pre nominálne/ordinálne atribúty vypočítajte početnosti hodnôt. Vykreslite pre ne histogramy.\n",
    "* Pre každý atribút vypočítajte počet chýbajúcich hodnôt."
   ]
  },
  {
   "cell_type": "code",
   "execution_count": null,
   "metadata": {},
   "outputs": [],
   "source": [
    "# pre ciselne atributy\n",
    "\n",
    "print(data[['Tenure', 'MonthlyCharges', 'TotalCharges']].describe())"
   ]
  },
  {
   "cell_type": "code",
   "execution_count": null,
   "metadata": {},
   "outputs": [],
   "source": [
    "# pocetnosti hodnot a histogramy pre nominalne atributy (okrem cieloveho)\n",
    "\n",
    "for x in ['Gender', 'SeniorCitizen', 'Partner', 'Dependents', 'PhoneService', 'MultipleLines', \n",
    "          'InternetService', 'OnlineSecurity', 'OnlineBackup', 'DeviceProtection', 'TechSupport',\n",
    "          'StreamingTV', 'StreamingMovies', 'Contract', 'PaperlessBilling', 'PaymentMethod']:\n",
    "    print(data[x].value_counts())\n",
    "    print('')"
   ]
  },
  {
   "cell_type": "code",
   "execution_count": null,
   "metadata": {},
   "outputs": [],
   "source": [
    "# ak chceme vykreslit histogramy, tak pomocou countplot()\n",
    "\n",
    "sns.countplot(data['Gender'])"
   ]
  },
  {
   "cell_type": "code",
   "execution_count": null,
   "metadata": {},
   "outputs": [],
   "source": [
    "# ak chceme pre vsetky naraz, tak napr. takto:\n",
    "\n",
    "for i in ['Gender', 'SeniorCitizen', 'Partner', 'Dependents', 'PhoneService', 'MultipleLines', 'InternetService', 'OnlineSecurity', 'OnlineBackup', 'DeviceProtection', 'TechSupport','StreamingTV', 'StreamingMovies', 'Contract', 'PaperlessBilling', 'PaymentMethod', 'Churn']:\n",
    "    plt.figure(i)\n",
    "    sns.countplot(x=i, data=data)\n"
   ]
  },
  {
   "cell_type": "code",
   "execution_count": null,
   "metadata": {},
   "outputs": [],
   "source": [
    "# pocty chybajucich hodnot:\n",
    "\n",
    "for i in data.columns:\n",
    "    print('Pocet chybajucich hodnot atributu', i, ':', data[i].isna().sum())"
   ]
  },
  {
   "cell_type": "markdown",
   "metadata": {},
   "source": [
    "### Úloha 3 - Závislosti medzi číselnými atribútmi (3b)\n",
    "\n",
    "Vypočítajte korelačnú maticu pre číselné atribúty a identifikujte, ktoré atribúty sú najviac korelované."
   ]
  },
  {
   "cell_type": "code",
   "execution_count": null,
   "metadata": {},
   "outputs": [],
   "source": [
    "# YOUR CODE HERE\n",
    "\n",
    "data_numeric = data[['Tenure', 'MonthlyCharges', 'TotalCharges']]\n",
    "print(data_numeric.corr())"
   ]
  },
  {
   "cell_type": "code",
   "execution_count": null,
   "metadata": {},
   "outputs": [],
   "source": [
    "g = sns.heatmap(data_numeric.corr(), cmap='RdPu', annot= True)\n",
    "# najviac korelovane tenure a total charges (0.83)"
   ]
  },
  {
   "cell_type": "code",
   "execution_count": null,
   "metadata": {},
   "outputs": [],
   "source": [
    "# zavislost mozme skusit vizualizovat scatterplotom\n",
    "\n",
    "g = sns.regplot(data=data_numeric, x='Tenure', y='TotalCharges')"
   ]
  },
  {
   "cell_type": "markdown",
   "metadata": {},
   "source": [
    "### Úloha 4 - Diskretizácia hodnôt (4b)\n",
    "\n",
    "* Diskretizujte číselné atribúty `MonthlyCharges` a `TotalCharges` do 5 rovnako veľkých intervalov.\n",
    "* Diskretizujte číselný atribút `Tenure` na 5 intervalov s rovnakou početnosťou príkladov."
   ]
  },
  {
   "cell_type": "code",
   "execution_count": null,
   "metadata": {},
   "outputs": [],
   "source": [
    "# diskretizacia MonthlyCharges a TotalCharges\n",
    "data['MonthlyCharges_ordinal'] = pd.cut(data['MonthlyCharges'], 5)\n",
    "data['TotalCharges_ordinal'] = pd.cut(data['TotalCharges'], 5)"
   ]
  },
  {
   "cell_type": "code",
   "execution_count": null,
   "metadata": {},
   "outputs": [],
   "source": [
    "# diskretizacia Tenure\n",
    "data['Tenure_ordinal'] = pd.qcut(data['Tenure'], 5)"
   ]
  },
  {
   "cell_type": "markdown",
   "metadata": {},
   "source": [
    "### Úloha 5 - Závislosti medzi nominálnymi/ordinálnymi atribútmi (5b)\n",
    "\n",
    "* Pomocou kontingenčnej tabuľky zistite, aká je závislosť medzi atribútmi `Tenure`, `MonthlyCharges`, `TotalCharges` a atribútom `Churn` (využite diskretizovanie hodnôt z úlohy 4). Závislosti vizualizujte vhodným spôsobom pomocou knižnice Seaborn.\n",
    "* Pomocou kontingenčnej tabuľky zistite, aká je závislosť medzi atribútmi `Gender`, `SeniorCitizen` a atribútom `Churn`.\n",
    "* Pomocou krížovej tabuľky zistite početnosť rôznych kombinácií služieb pre atribúty `PhoneService`, `InternetService`, `StreamingTV`, `StreamingMovies`. Početnosti vizualizujte aj pomocou Seaborn knižnice."
   ]
  },
  {
   "cell_type": "code",
   "execution_count": null,
   "metadata": {},
   "outputs": [],
   "source": [
    "# kontigencne tabulky\n",
    "pd.pivot_table(data, index=[\"Tenure_ordinal\"], values=\"Churn\")"
   ]
  },
  {
   "cell_type": "code",
   "execution_count": null,
   "metadata": {},
   "outputs": [],
   "source": [
    "pd.pivot_table(data, index=[\"TotalCharges_ordinal\"], values=\"Churn\")"
   ]
  },
  {
   "cell_type": "code",
   "execution_count": null,
   "metadata": {},
   "outputs": [],
   "source": [
    "pd.pivot_table(data, index=[\"MonthlyCharges_ordinal\"], values=\"Churn\")"
   ]
  },
  {
   "cell_type": "code",
   "execution_count": null,
   "metadata": {},
   "outputs": [],
   "source": [
    "pd.pivot_table(data, index=[\"Tenure_ordinal\", \"MonthlyCharges_ordinal\", \"TotalCharges_ordinal\"], values=\"Churn\")"
   ]
  },
  {
   "cell_type": "code",
   "execution_count": null,
   "metadata": {},
   "outputs": [],
   "source": [
    "g = sns.FacetGrid(data, col=\"Tenure_ordinal\", hue=\"MonthlyCharges_ordinal\", palette=\"Set1\")\n",
    "g = (g.map(plt.hist, \"Churn\").add_legend())"
   ]
  },
  {
   "cell_type": "code",
   "execution_count": null,
   "metadata": {},
   "outputs": [],
   "source": [
    "pd.pivot_table(data, index=[\"Gender\"], values=\"Churn\") "
   ]
  },
  {
   "cell_type": "code",
   "execution_count": null,
   "metadata": {},
   "outputs": [],
   "source": [
    "pd.pivot_table(data, index=[\"SeniorCitizen\"], values=\"Churn\")"
   ]
  },
  {
   "cell_type": "code",
   "execution_count": null,
   "metadata": {},
   "outputs": [],
   "source": [
    "g = sns.countplot(y=\"Churn\", hue=\"SeniorCitizen\", data=data, palette='rainbow')"
   ]
  },
  {
   "cell_type": "code",
   "execution_count": null,
   "metadata": {},
   "outputs": [],
   "source": [
    "g = sns.FacetGrid(data, col=\"Gender\", hue=\"SeniorCitizen\", palette=\"Set1\")\n",
    "g = (g.map(plt.hist, \"Churn\").add_legend())"
   ]
  },
  {
   "cell_type": "code",
   "execution_count": null,
   "metadata": {},
   "outputs": [],
   "source": [
    "pd.crosstab(index=data[\"StreamingTV\"], columns=data[\"StreamingMovies\"])"
   ]
  },
  {
   "cell_type": "code",
   "execution_count": null,
   "metadata": {},
   "outputs": [],
   "source": [
    "pd.crosstab(index=data[\"StreamingTV\"], columns=data[\"PhoneService\"])"
   ]
  },
  {
   "cell_type": "code",
   "execution_count": null,
   "metadata": {},
   "outputs": [],
   "source": [
    "pd.crosstab(index=data[\"StreamingMovies\"], columns=data[\"PhoneService\"])"
   ]
  },
  {
   "cell_type": "code",
   "execution_count": null,
   "metadata": {},
   "outputs": [],
   "source": [
    "pd.crosstab(index=data[\"InternetService\"], columns=data[\"PhoneService\"])"
   ]
  },
  {
   "cell_type": "code",
   "execution_count": null,
   "metadata": {},
   "outputs": [],
   "source": [
    "g = sns.countplot(y=\"InternetService\", hue=\"PhoneService\", data=data, palette='rainbow')"
   ]
  },
  {
   "cell_type": "code",
   "execution_count": null,
   "metadata": {},
   "outputs": [],
   "source": [
    "g = sns.countplot(y=\"StreamingMovies\", hue=\"StreamingTV\", data=data, palette='Set1')"
   ]
  },
  {
   "cell_type": "code",
   "execution_count": null,
   "metadata": {},
   "outputs": [],
   "source": [
    "g = sns.countplot(y=\"StreamingTV\", hue=\"PhoneService\", data=data, palette='Set1')"
   ]
  },
  {
   "cell_type": "markdown",
   "metadata": {},
   "source": [
    "### Úloha 6 - Nahradenie chýbajúcich hodnôt (5b)\n",
    "\n",
    "* Vhodným spôsobom nahraďte chýbajúce hondnoty v atribúte `MonthlyCharges` v závislosti od atribútu `TotalCharges` a `Tenure`.\n",
    "* Pre hodnoty `TotalCharges` porozmýšľajte nad odvodením chýbajúcich hodnôt na základe `Tenure`.\n",
    "* Vhodným spôsobom nahraďte chýbajúce hodnoty v atribúte `Dependents` v závislosti od atribútov `Gender` a `Partner`."
   ]
  },
  {
   "cell_type": "code",
   "execution_count": null,
   "metadata": {},
   "outputs": [],
   "source": [
    "# nahradenie MonthlyCharges a TotalCharges\n",
    "\n",
    "def replace_missing_MonthlyCharges(row):\n",
    "    TotalCharges = row[\"TotalCharges\"]\n",
    "    Tenure = row[\"Tenure\"]\n",
    "    MonthlyCharges = row[\"MonthlyCharges\"]\n",
    "    if pd.isna(MonthlyCharges):\n",
    "        return TotalCharges / Tenure\n",
    "    else:\n",
    "        return MonthlyCharges\n",
    "    \n",
    "def replace_missing_TotalCharges(row):\n",
    "    TotalCharges = row[\"TotalCharges\"]\n",
    "    MonthlyCharges = row[\"MonthlyCharges\"]\n",
    "    Tenure = row[\"Tenure\"]\n",
    "    if pd.isna(TotalCharges):\n",
    "        if Tenure == 0: \n",
    "            return MonthlyCharges\n",
    "        else:\n",
    "            return MonthlyCharges * Tenure\n",
    "    else:\n",
    "        return TotalCharges\n",
    "\n",
    "\n",
    "data['MonthlyCharges'] = data.apply(replace_missing_MonthlyCharges, axis = 1)\n",
    "data['TotalCharges'] = data.apply(replace_missing_TotalCharges, axis = 1)\n",
    "\n",
    "print(data['MonthlyCharges'].isna().sum())\n",
    "print(data['TotalCharges'].isna().sum())"
   ]
  },
  {
   "cell_type": "code",
   "execution_count": null,
   "metadata": {},
   "outputs": [],
   "source": [
    "# pre depententsnajprv zistis pocetnosti pre kombinacie Gender a Partner\n",
    "\n",
    "table = pd.crosstab(index=[data['Gender'], data['Partner']], columns= data['Dependents'])\n",
    "\n",
    "print(table)"
   ]
  },
  {
   "cell_type": "code",
   "execution_count": null,
   "metadata": {},
   "outputs": [],
   "source": [
    "# a podla toho nahradit\n",
    "\n",
    "def replace_missing_Dependents(row):\n",
    "    if pd.isna(row['Dependents']):\n",
    "        if row['Gender'] == 'Female':\n",
    "            if row['Partner'] == 'No':\n",
    "                return 'No' \n",
    "            else:\n",
    "                return 'Yes'\n",
    "        else:\n",
    "            if row['Partner'] == 'No':\n",
    "                return 'No' \n",
    "            else:\n",
    "                return 'Yes'\n",
    "    else:\n",
    "        return row['Dependents']\n",
    "\n",
    "data['Dependents'] = data.apply(replace_missing_Dependents, axis = 1)"
   ]
  },
  {
   "cell_type": "markdown",
   "metadata": {},
   "source": [
    "### Úloha 7 - Odvodenie nových atribútov (5b)\n",
    "\n",
    "* Vytvorte nový atribút `TotalMonthCharges`, ktorého hondoty sú rovné `MonthlyCharges * Tenure`.\n",
    "* Vytvorte nový atribút `TotalRatio` ktorý bude mať hodnotu -1 ak `TotalMonthCharges < TotalCharges`, 0 ak `TotalMonthCharges = TotalCharges` a +1 ak `TotalMonthCharges > TotalCharges`."
   ]
  },
  {
   "cell_type": "code",
   "execution_count": null,
   "metadata": {},
   "outputs": [],
   "source": [
    "# ToTalMonthCharges\n",
    "\n",
    "data['TotalMonthCharges'] = data.eval('MonthlyCharges * Tenure')\n",
    "\n",
    "# TotalRatio\n",
    "\n",
    "def total_ratio(row):\n",
    "    if row['TotalMonthCharges'] < row['TotalCharges']:\n",
    "        return -1\n",
    "    elif row['TotalMonthCharges'] == row['TotalCharges']:\n",
    "        return 0\n",
    "    else:\n",
    "        return 1\n",
    "\n",
    "data['TotalRatio'] = data.apply(total_ratio, axis= 1)"
   ]
  },
  {
   "cell_type": "markdown",
   "metadata": {},
   "source": [
    "### Úloha 8 - Prevedenie dát do podoby vhodnej pre modelovanie (5b)\n",
    "\n",
    "Predspracovaný dátový rámec preveďte do podoby vhodnej pre modelovanie:\n",
    "* Použite vhodný spôsob transformovania kategorických atribútov\n",
    "* Použite normalizáciu zvolených atribútov pre modely, pre ktoré je normalizácia vhodná\n",
    "* Zvoľte, ktoré z atribútov (pôvodných a vytvorených/transformovaných) použijete pri tvorbe modelov."
   ]
  },
  {
   "cell_type": "code",
   "execution_count": null,
   "metadata": {},
   "outputs": [],
   "source": [
    "data = data.drop(columns=[\"Tenure_ordinal\",\"MonthlyCharges_ordinal\",\"TotalMonthCharges\", \"TotalCharges_ordinal\"])\n",
    "\n",
    "data['Churn'] = data['Churn'].map({\"Yes\":1, \"No\":0})\n",
    "\n",
    "data['Gender'] = data['Gender'].map({\"Female\":1, \"Male\":0})\n",
    "data['Partner'] = data['Partner'].map({'Yes':1, 'No':0})\n",
    "data['Dependents'] = data['Dependents'].map({'Yes':1, 'No':0})\n",
    "data['PhoneService'] = data['PhoneService'].map({'Yes':1, 'No':0})\n",
    "data['PaperlessBilling'] = data['PaperlessBilling'].map({'Yes':1, 'No':0})\n",
    "\n",
    "data['MultipleLines'] = data['MultipleLines'].map({'Yes':1, 'No':0, 'No phone service':0})\n",
    "data['OnlineSecurity'] = data['OnlineSecurity'].map({'Yes':1, 'No':0, 'No internet service':0})\n",
    "data['OnlineBackup'] = data['OnlineBackup'].map({'Yes':1, 'No':0, 'No internet service':0})\n",
    "data['DeviceProtection'] = data['DeviceProtection'].map({'Yes':1, 'No':0, 'No internet service':0})\n",
    "data['TechSupport'] = data['TechSupport'].map({'Yes':1, 'No':0, 'No internet service':0})\n",
    "data['StreamingTV'] = data['StreamingTV'].map({'Yes':1, 'No':0, 'No internet service':0})\n",
    "data['StreamingMovies'] = data['StreamingMovies'].map({'Yes':1, 'No':0, 'No internet service':0})\n",
    "\n",
    "data[\"Contract\"] = data[\"Contract\"].map({\"Month-to-month\": 0, \"One year\": 1, \"Two year\" : 2})\n",
    "\n",
    "data = pd.get_dummies(data, columns= ['InternetService', 'PaymentMethod' ])\n",
    "\n",
    "data.head()"
   ]
  },
  {
   "cell_type": "code",
   "execution_count": null,
   "metadata": {},
   "outputs": [],
   "source": [
    "# normalizovane data\n",
    "\n",
    "from sklearn.preprocessing import MinMaxScaler\n",
    "scaler = MinMaxScaler()\n",
    "\n",
    "normData = pd.DataFrame(scaler.fit_transform(data), index= data.index, columns= data.columns)\n",
    "normData.head()"
   ]
  },
  {
   "cell_type": "markdown",
   "metadata": {},
   "source": [
    "### Úloha 9 - Rozdelenie dát na trénovanie a testovanie (2b)\n",
    "\n",
    "* Rozdeľte dátovú množinu do matice príznakov a vektora hodnôt cieľového atribútu\n",
    "* Rozdeľte dáta do trénovacej a testovacej množiny v pomere 70/30."
   ]
  },
  {
   "cell_type": "code",
   "execution_count": null,
   "metadata": {},
   "outputs": [],
   "source": [
    "from sklearn.model_selection import train_test_split\n",
    "\n",
    "X_data = data.drop(columns= 'Churn', axis = 1)\n",
    "y_data = data['Churn']\n",
    "X_train, X_test, y_train, y_test = train_test_split(X_data, y_data, test_size= 0.3, random_state= 1)\n",
    "\n",
    "\n",
    "X_normData = normData.drop(columns= 'Churn', axis = 1)\n",
    "y_normData = normData['Churn']\n",
    "X_train_norm, X_test_norm, y_train_norm, y_test_norm = train_test_split(X_normData, y_normData, test_size= 0.3, random_state= 1)"
   ]
  },
  {
   "cell_type": "markdown",
   "metadata": {},
   "source": [
    "### Úloha 10 - Natrénovanie klasifikačných modelov a nájdenie optimálnych parametrov (6b)\n",
    "\n",
    "Natrénujte klasifikačné modely rôznych typov (Stromy, kNN, Naive Bayes, Random Forests). Pre nájdenie optimálnych parametrov modelov jednotlivých typov modelov použite GridSearch. V rámci GridSearch modely validujte 5- násobnou krížovou validáciou a ako metriku pre ich vyhodnotenie použite `accuracy`."
   ]
  },
  {
   "cell_type": "code",
   "execution_count": null,
   "metadata": {},
   "outputs": [],
   "source": [
    "for i in normData.columns:\n",
    "    print('Pocet chybajucich hodnot atributu', i, ':', normData[i].isna().sum())"
   ]
  },
  {
   "cell_type": "code",
   "execution_count": null,
   "metadata": {},
   "outputs": [],
   "source": [
    "from sklearn.model_selection import GridSearchCV\n",
    "from sklearn.neighbors import KNeighborsClassifier\n",
    "\n",
    "\n",
    "knn = KNeighborsClassifier()\n",
    "k = list(range(1, 50))\n",
    "weights_range = ['uniform', 'distance']\n",
    "metric_range = ['euclidean', 'manhattan']  \n",
    "\n",
    "param_grid_kNN = dict(n_neighbors=k, weights=weights_range, metric=metric_range)\n",
    "\n",
    "grid_kNN = GridSearchCV(estimator=knn, param_grid=param_grid_kNN, cv=5, scoring='accuracy')\n",
    "grid_kNN.fit(X_train_norm, y_train_norm)\n",
    "\n",
    "print('Najlepšia kombinácia parametrov modelu \"kNN\" je:')\n",
    "print(grid_kNN.best_params_)\n",
    "print()\n",
    "print('Hodnota presnosti modelu \"kNN\" pri tejto kombinácii je:')\n",
    "print(grid_kNN.best_score_)"
   ]
  },
  {
   "cell_type": "code",
   "execution_count": null,
   "metadata": {},
   "outputs": [],
   "source": [
    "from sklearn.tree import DecisionTreeClassifier\n",
    "\n",
    "dt = DecisionTreeClassifier()\n",
    "\n",
    "criterion_range = ['gini', 'entropy']\n",
    "max_depth_range = [1, 2, 3, 4, 5, 6] \n",
    "min_samples_split_range = [2, 4, 6, 8, 10, 12]\n",
    "min_samples_leaf_range = [1, 5, 10]\n",
    "presort_range = [True, False]\n",
    "\n",
    "param_grid_dt = dict(criterion=criterion_range, max_depth=max_depth_range, min_samples_split = min_samples_split_range, min_samples_leaf = min_samples_leaf_range, presort = presort_range )\n",
    "\n",
    "grid_dt = GridSearchCV(estimator=dt, param_grid=param_grid_dt, cv=5, scoring='accuracy')\n",
    "grid_dt.fit(X_train, y_train)\n",
    "\n",
    "print('Najlepšia kombinácia parametrov modelu \"decision_tree\" je:')\n",
    "print(grid_dt.best_params_)\n",
    "print()\n",
    "print('Hodnota presnosti modelu \"decision_tree\" pri tejto kombinácii je:')\n",
    "print(grid_dt.best_score_)"
   ]
  },
  {
   "cell_type": "code",
   "execution_count": null,
   "metadata": {},
   "outputs": [],
   "source": [
    "from sklearn.ensemble import RandomForestClassifier\n",
    "\n",
    "rf = RandomForestClassifier()\n",
    "\n",
    "n_estimators_range = [100, 300, 500, 700, 900]\n",
    "oob_score_range = [True, False]\n",
    "criterion_range = ['gini', 'entropy']\n",
    "max_depth_range = [1, 2, 3, 4, 5, 6]\n",
    "min_samples_split_range = [2, 4, 6]\n",
    "min_samples_leaf_range = [1, 5, 10]\n",
    "\n",
    "param_grid_rf = dict(n_estimators=n_estimators_range, oob_score=oob_score_range, criterion=criterion_range, max_depth=max_depth_range, min_samples_split = min_samples_split_range, min_samples_leaf = min_samples_leaf_range)\n",
    "\n",
    "grid_rf = GridSearchCV(estimator=rf, param_grid=param_grid_rf, cv=5, scoring='accuracy')\n",
    "grid_rf.fit(X_train, y_train)\n",
    "\n",
    "print('Najlepšia kombinácia parametrov modelu \"random_forests\" je:')\n",
    "print(grid_rf.best_params_)\n",
    "print()\n",
    "print('Hodnota presnosti modelu \"random_forests\" pri tejto kombinácii je:')\n",
    "print(grid_rf.best_score_)"
   ]
  },
  {
   "cell_type": "code",
   "execution_count": null,
   "metadata": {},
   "outputs": [],
   "source": [
    "from sklearn.naive_bayes import GaussianNB\n",
    "\n",
    "nb = GaussianNB()\n",
    "\n",
    "nb.fit(X_train, y_train)"
   ]
  },
  {
   "cell_type": "markdown",
   "metadata": {},
   "source": [
    "### Úloha 11 - Porovnanie modelov pomocou ROC kriviek (4b)\n",
    "\n",
    "* Modely otestujte na testovacej množine a modely jednotlivých typov s najvhodnejšími parametrami vzájomne porovnajte pomocou ROC kriviek a AUC koeficientov. ROC krivky vykreslite pomocou matplotlib a nájdite najlepší z modelov.  "
   ]
  },
  {
   "cell_type": "code",
   "execution_count": null,
   "metadata": {},
   "outputs": [],
   "source": [
    "from sklearn.metrics import roc_curve,auc\n",
    "\n",
    "# k-NN\n",
    "\n",
    "knn = KNeighborsClassifier()\n",
    "\n",
    "knn = KNeighborsClassifier(n_neighbors= 30, weights= 'uniform', metric= 'manhattan')\n",
    "knn.fit(X_train_norm, y_train_norm)\n",
    "y_knn=knn.predict(X_test_norm)\n",
    "\n",
    "fpr_knn, tpr_knn, thresholds_knn = roc_curve(y_test_norm, y_knn, pos_label=1)\n",
    "roc_auc_knn = auc(fpr_knn, tpr_knn)\n",
    "\n",
    "# stromy\n",
    "\n",
    "dt = DecisionTreeClassifier()\n",
    "\n",
    "dt = DecisionTreeClassifier(criterion= 'entropy', max_depth= 5, min_samples_leaf= 5, min_samples_split= 4, presort= True)\n",
    "dt.fit(X_train, y_train)\n",
    "y_dt=dt.predict(X_test)\n",
    "\n",
    "fpr_dt, tpr_dt, thresholds_dt = roc_curve(y_test, y_dt, pos_label=1)\n",
    "roc_auc_dt = auc(fpr_dt, tpr_dt)\n",
    "\n",
    "# Random Forests\n",
    "\n",
    "rf = RandomForestClassifier()\n",
    "\n",
    "rf = RandomForestClassifier(n_estimators= 700, oob_score= True, criterion= 'gini', max_depth= 6, min_samples_split =  6, min_samples_leaf =  10)\n",
    "rf.fit(X_train, y_train)\n",
    "y_rf=rf.predict(X_test)\n",
    "\n",
    "fpr_rf, tpr_rf, thresholds_rf = roc_curve(y_test, y_rf, pos_label=1)\n",
    "roc_auc_rf = auc(fpr_rf, tpr_rf)\n",
    "\n",
    "# Bayes\n",
    "\n",
    "nb = GaussianNB()\n",
    "nb.fit(X_train, y_train)\n",
    "y_nb=nb.predict(X_test)\n",
    "\n",
    "fpr_nb, tpr_nb, thresholds_nb = roc_curve(y_test, y_nb, pos_label=1)\n",
    "roc_auc_nb = auc(fpr_nb, tpr_nb)\n",
    "\n",
    "\n",
    "plt.title('ROC Krivka')\n",
    "\n",
    "plt.plot(fpr_knn, tpr_knn, color='green', label = 'kNN (AUC = %0.2f)' % roc_auc_knn) \n",
    "plt.plot(fpr_dt, tpr_dt, color='blue', label = 'Decicion Trees (AUC = %0.2f)' % roc_auc_dt) \n",
    "plt.plot(fpr_rf, tpr_rf, color='red', label = 'Random Forests (AUC = %0.2f)' % roc_auc_rf) \n",
    "plt.plot(fpr_nb, tpr_nb, color='yellow', label = 'Naive Bayes (AUC = %0.2f)' % roc_auc_nb) \n",
    "\n",
    "plt.legend(loc = 'lower right') \n",
    "plt.plot([0, 1], [0, 1],linestyle='--', color='blue')\n",
    "plt.xlim([0, 1]) \n",
    "plt.ylim([0, 1])\n",
    "plt.ylabel('TP rate') \n",
    "plt.xlabel('FP rate') \n",
    "plt.show()"
   ]
  },
  {
   "cell_type": "markdown",
   "metadata": {},
   "source": [
    "### Úloha 12 - Vyhodnotenie modelu na testovacej množine (4b)\n",
    "\n",
    "* Modely otestujte na testovacej množine, pri testovaní na testovacej množine vypíšte hodnoty metrík (accuracy, precision, recall) a confusion matrix. Porovnajte výsledky - ktorý z modelov najlepšie predikuje deteguje zákazníkov, ktorí od telekomunikačného operátora odídu?\n",
    "* Vykreslite model rozhodovacích stromov (pomocou webgraphviz). Pokúste sa zo štruktúry modelu odvodiť klasifikačné pravidlo/pravidlá pre identifikáciu odchádzajúcich zákazníkov."
   ]
  },
  {
   "cell_type": "code",
   "execution_count": null,
   "metadata": {},
   "outputs": [],
   "source": [
    "from sklearn.metrics import confusion_matrix\n",
    "from sklearn.metrics import accuracy_score,precision_score, recall_score\n",
    "\n",
    "# k-NN\n",
    "\n",
    "print('kNN accuracy: %0.2f' % accuracy_score(y_test_norm, y_knn))\n",
    "print('kNN precision: %0.2f' %  precision_score(y_test_norm, y_knn))\n",
    "print('kNN recall: %0.2f' %  recall_score(y_test_norm, y_knn))\n",
    "cm_knn = confusion_matrix(y_test_norm, y_knn)\n",
    "print(cm_knn)\n",
    "\n",
    "print('Decision tree accuracy: %0.2f' % accuracy_score(y_test, y_dt))\n",
    "print('Decision tree precision: %0.2f' % precision_score(y_test, y_dt))\n",
    "print('Decision tree recall: %0.2f' % recall_score(y_test, y_dt))\n",
    "print('')\n",
    "cm_dt = confusion_matrix(y_test, y_dt)\n",
    "print(cm_dt)\n",
    "\n",
    "print('RF accuracy: %0.2f' % accuracy_score(y_test, y_rf))\n",
    "print('RF precision: %0.2f' % precision_score(y_test, y_rf))\n",
    "print('RF recall: %0.2f' % recall_score(y_test, y_rf))\n",
    "print('')\n",
    "cm_rf = confusion_matrix(y_test, y_rf)\n",
    "print(cm_rf)\n",
    "\n",
    "print('NB accuracy: %0.2f' % accuracy_score(y_test, y_nb))\n",
    "print('NB precision: %0.2f' % precision_score(y_test, y_nb))\n",
    "print('NB recall: %0.2f' % recall_score(y_test, y_nb))\n",
    "print('')\n",
    "cm_nb = confusion_matrix(y_test, y_nb)\n",
    "print(cm_nb)"
   ]
  },
  {
   "cell_type": "code",
   "execution_count": null,
   "metadata": {},
   "outputs": [],
   "source": [
    "from sklearn import tree\n",
    "from sklearn.tree import export_graphviz\n",
    "\n",
    "with open(\"decision_tree.txt\", \"w\") as f:\n",
    "    f = tree.export_graphviz(dt, feature_names=X_data.columns.values, class_names=['0','1'], out_file=f)"
   ]
  },
  {
   "cell_type": "code",
   "execution_count": null,
   "metadata": {},
   "outputs": [],
   "source": [
    "# extrahovane pravidlo zo stromu napr:"
   ]
  }
 ],
 "metadata": {
  "kernelspec": {
   "display_name": "Python 3",
   "language": "python",
   "name": "python3"
  },
  "language_info": {
   "codemirror_mode": {
    "name": "ipython",
    "version": 3
   },
   "file_extension": ".py",
   "mimetype": "text/x-python",
   "name": "python",
   "nbconvert_exporter": "python",
   "pygments_lexer": "ipython3",
   "version": "3.7.4"
  }
 },
 "nbformat": 4,
 "nbformat_minor": 4
}
