{
 "cells": [
  {
   "cell_type": "markdown",
   "metadata": {},
   "source": [
    "## Úlohy"
   ]
  },
  {
   "cell_type": "markdown",
   "metadata": {},
   "source": [
    "### Úloha 5.1\n",
    "\n",
    "Napíšte funkciu `find_value(l, value)`, ktorá vráti pozíciu prvého výskytu prvku zoznamu `l` so zadanou hodnotou `value`, alebo -1 ak sa taký prvok v zozname nenachádza. Pri riešení využite kód z úlohy 3.6."
   ]
  },
  {
   "cell_type": "code",
   "execution_count": 6,
   "metadata": {},
   "outputs": [
    {
     "name": "stdout",
     "output_type": "stream",
     "text": [
      "2\n",
      "-1\n"
     ]
    }
   ],
   "source": [
    "def find_value(l, value):\n",
    "    index = -1\n",
    "    for i, v in enumerate(l):\n",
    "        if v == value:\n",
    "            # našli sme požadovanú hodnotu, nastavíme do index jej pozíciu a prerušíme cyklus\n",
    "            index = i\n",
    "            break\n",
    "    return index\n",
    "\n",
    "# v tomto prípade si nemusíme pamätať index v pomocnej premennej, ak nájdeme v zozname danú hodnotu, cyklus a funkciu môžeme ukončiť\n",
    "# príkazom return a vrátit priamo index hodnoty\n",
    "def find_value(l, value):\n",
    "    for i, v in enumerate(l):\n",
    "        if v == value:\n",
    "            # našli sme požadovanú hodnotu, priamo ukončíme funkciu a vrátime index hodnoty\n",
    "            return i\n",
    "    return -1 # prešli sme všetky prvky do konca, ale hodnotu sme nenašli, takže vrátime -1\n",
    "\n",
    "# volanie funkcie otestujeme na nasledujúcich príkladoch\n",
    "numbers = [0, 1, 2, 3]\n",
    "i = find_value(numbers, 2)\n",
    "print(i) # = 2\n",
    "i = find_value([], 2)\n",
    "print(i) # = -1\n",
    "\n",
    "# funkciu find_values(l, value) môžeme volať aj nasledovne\n",
    "i = find_value(numbers, value=2) # parameter l je zadaný na 1 pozícii, value cez názov\n",
    "i = find_value(l=numbers, value=2) # oba parametre sú zadané cez názov\n",
    "i = find_value(value=2, l=numbers) # ak parametre zadávame cez názov, nemusia byť uvedené v poradí v akom sú definované vo funkcii\n",
    "\n",
    "# nasledujúci zápis by však skončil chybou SyntaxError, pretože ak uvedieme aspoň jeden parameter na jeho pozícii, musíme všetky\n",
    "# predchádzajúce parametre tiež zadať na ich pozícii a nie podľa názvu\n",
    "# i = find_value(l=numbers, value)"
   ]
  },
  {
   "cell_type": "markdown",
   "metadata": {},
   "source": [
    "### Úloha 5.2\n",
    "Napíšte funkciu `count_values(l)`, ktorá spočíta koľkokrát sa vyskytovali rôzne hodnoty v zozname `l` a vráti mapu s dvojicami (hodnota, početnosť). Pri riešení využite kód z úlohy 4.3."
   ]
  },
  {
   "cell_type": "code",
   "execution_count": 7,
   "metadata": {},
   "outputs": [
    {
     "data": {
      "text/plain": [
       "{1: 2, 2: 2, 3: 2, 4: 3}"
      ]
     },
     "execution_count": 7,
     "metadata": {},
     "output_type": "execute_result"
    }
   ],
   "source": [
    "def count_values(l):\n",
    "    counts = {}\n",
    "    for v in l:\n",
    "        if v in counts:\n",
    "            counts[v] += 1\n",
    "        else:\n",
    "            counts[v] = 1\n",
    "    return counts\n",
    "\n",
    "c = count_values([1,2,1,2,3,3,4,4,4])\n",
    "c"
   ]
  },
  {
   "cell_type": "markdown",
   "metadata": {},
   "source": [
    "### Úloha 5.3\n",
    "\n",
    "Upravte funkciu `find_values` z úlohy 5.1 tak, že pridáte parameter `default_index` s prednastavenou hodnotou -1, ktorého hodnota sa vráti ak sa hodnota `value` v zozname nenájde.  "
   ]
  },
  {
   "cell_type": "code",
   "execution_count": 8,
   "metadata": {},
   "outputs": [
    {
     "name": "stdout",
     "output_type": "stream",
     "text": [
      "None\n"
     ]
    }
   ],
   "source": [
    "def find_value(l, value, default_index=-1):\n",
    "    for i, v in enumerate(l):\n",
    "        if v == value:\n",
    "            return i\n",
    "    return default_index\n",
    "\n",
    "# funkciu find_values(l, value, default_index=-1) môžeme volať aj nasledovne\n",
    "i = find_value([], 2) # vynechali sme default_index, a funkcii sa predá jeho prednastavená hodnota\n",
    "i = find_value([], 2, None) # predefinovali sme parameter default_index, ktorý sme zadali na jeho pozícii\n",
    "i = find_value([], 2, default_index=None) # predefinovali sme parameter default_index, ktorý sme zadali podľa jeho názvu\n",
    "print(i) # = None"
   ]
  },
  {
   "cell_type": "markdown",
   "metadata": {},
   "source": [
    "### Úloha 5.4\n",
    "\n",
    "Rozdeľte riešenie úlohy 3.1 na jednoduchšie podúlohy pre ktoré naprogramujte potrebné funkcie."
   ]
  },
  {
   "cell_type": "code",
   "execution_count": 12,
   "metadata": {},
   "outputs": [
    {
     "name": "stdout",
     "output_type": "stream",
     "text": [
      "[['power', 'weight', 'hybrid', 'producer'], [55.3, 1450, False, 'ford'], [100, 2500, False, 'ford'], [60.5, 1150, True, 'toyota'], [56, None, False, 'volkswagen'], [75.2, 1480, False, 'volkswagen'], [80.1, 1630, False, 'peugeot']]\n",
      "power min: 55.3000, max: 100.0000, avg: 71.1833\n",
      "weight min: 1150.0000, max: 2500.0000, avg: 1642.0000\n",
      "['ford', 'ford', 'peugeot', 'toyota', 'volkswagen', 'volkswagen']\n"
     ]
    }
   ],
   "source": [
    "def convert_value(s, none_value=\"?\", string_delimiter=\"'\", decimal_point=\".\"):\n",
    "    \"\"\"\n",
    "    Funkcia prevedie reťazec na typ Pythonu.\n",
    "\n",
    "    Parametre:\n",
    "    s - konvertovaný reťazec\n",
    "    none_value - reťazec použitý pre označenie prázdnych hodnôt (prednastavená hodnota ?). \n",
    "    string_delimiter - znak použitý na ohraničenie reťazcov (prednastavená hodnota ').\n",
    "    decimal_point - znak pre označenie desatinnej čiarky (prednastavená hodnota .).\n",
    "    \n",
    "    Návratová hodnota:\n",
    "    skonvertovaná dátová hodnota Pythonu\n",
    "    \"\"\"\n",
    "    \n",
    "    # najprv odstránime z reťazca prázdne znaky zo začiatku a konca\n",
    "    value = s.strip()\n",
    "    if value == none_value:  # skonvertujeme jednoduché hodnoty None, True a False\n",
    "        value = None\n",
    "    elif value == \"true\":\n",
    "        value = True\n",
    "    elif value == \"false\":\n",
    "        value = False\n",
    "    elif value.startswith(string_delimiter): # ak je hodnota ohraničená oddeľovacím znakom, tak je to reťazec\n",
    "        value = value[1:-1] # odstránime z neho ohraničujúce znaky (prvý a posledný - predpokladáme, že string_delimiter má iba jeden znak)\n",
    "    elif value.find(decimal_point) >= 0:  # inak je to číslo, ak obsahuje desatinnú čiarku, prevedieme ho na float, inak na int\n",
    "        value = float(value)\n",
    "    else:\n",
    "        value = int(value)\n",
    "    return value\n",
    "\n",
    "def parse_data(s, delimiter=\";\"):\n",
    "    \"\"\"\n",
    "    Funkcia rozdelí reťazec na riadky tabuľky, každý riadok rozdelí na hodnoty a hodnoty prevedie na typ Pythonu.\n",
    "    \n",
    "    Parametre:\n",
    "    s - konvertovaný reťazec\n",
    "    delimiter - oddeľovač hodnôt (prednastavená hodnota ;)\n",
    "    \n",
    "    Návratová hodnota:\n",
    "    skonvertovaná tabuľka reprezentovaná ako zoznam riadkov s vnorenými zoznamami hodnôt pre každý riadok\n",
    "    \"\"\"\n",
    "    # najprv si text rozdelíme na riadky a každý riadok rozdelíme na hodnoty\n",
    "    lines = s.split(\"\\n\")\n",
    "    rows = []\n",
    "    for line in lines:\n",
    "        rows.append(line.split(delimiter))\n",
    "\n",
    "    # skonvertujeme hodnoty z reťazcov na typy Pythonu\n",
    "    for row in rows:\n",
    "        for i, value in enumerate(row): # budeme chcieť zmeniť hodnotu, takže budeme potrebovať jej index\n",
    "            row[i] = convert_value(value) # skonvertujeme hodnotu na typ Pythonu volaním funkcie convert_value s prednastavenými hodnotami\n",
    "                                           # parametrov pre označenie prázdnych hodnôt, oddeľovač reťazcov a desatinnú čiarku\n",
    "    return rows # vrátime skonvertované dáta\n",
    "\n",
    "\n",
    "def compute_stats(rows, column):\n",
    "    \"\"\"\n",
    "    Funkcia vypočíta základné štatistiky: minimum, maximum a priemernú hodnotu pre zadaný stĺpec tabuľky.\n",
    "\n",
    "    Parametre:\n",
    "    rows - tabuľka zadaná ako zoznam riadkov s vnorenými zoznamami hodnôt pre každý riadok\n",
    "    column - index stĺpca pre ktorý sa majú vypočítať štatistiky\n",
    "    \n",
    "    Návratová hodnota:\n",
    "    n-tica (minimum, maximum, priemer)\n",
    "    \"\"\"\n",
    "    # v jednom cykle vypočítame min, max a priemernú hodnotu\n",
    "    sum = 0\n",
    "    min = None\n",
    "    max = None\n",
    "    count = 0\n",
    "    \n",
    "    for row in rows:\n",
    "        value = row[column]\n",
    "        if value is None: # preskočíme chýbajúce hodnoty  \n",
    "            continue\n",
    "        if min is None or value < min:  # ak sme ešte nepriradili do min žiadnu hodnotu, alebo ak je hodnota v riadku menšia než minimum, priradíme ju do min\n",
    "            min = value\n",
    "        if max is None or value > max:  # podobne ak sme ešte nepriradili max, alebo je hodnota väčšia než max, priradíme ju do max \n",
    "            max = value\n",
    "        sum += value # pripočítame hodnotu do sumy pre priemer\n",
    "        count += 1 # spočítame počet neprázdnych hodnôt z ktorých počítame priemer\n",
    "\n",
    "    avg = sum / count if count > 0 else None # pre priemer vrátime None ak sme nenašli žiadnu neprázdnu hodnotu    \n",
    "    return (min, max, avg) # vrátime n-ticu vypočítaných hodnôt\n",
    "\n",
    "# po definovaní funkcií nasleduje hlavný program\n",
    "\n",
    "data = \"\"\"'power'; 'weight'; 'hybrid'; 'producer'\n",
    "55.3; 1450; false; 'ford'\n",
    "100; 2500; false; 'ford'\n",
    "60.5; 1150; true; 'toyota'\n",
    "56; ?; false; 'volkswagen'\n",
    "75.2; 1480; false; 'volkswagen'\n",
    "80.1; 1630; false; 'peugeot'\"\"\"\n",
    "\n",
    "rows = parse_data(data)\n",
    "# pre kontrolu si zobrazíme skonvertované dáta (print zobrazí aj ohraničenie Python reťazcov '', ale hodnoty už neobsahujú ')\n",
    "print(rows)\n",
    "\n",
    "# z rows odstránime prvý riadok (hlavičku tabuľky s názvami stĺpcov)\n",
    "del(rows[0])\n",
    "\n",
    "min, max, avg = compute_stats(rows, 0) # vypočítame min, max a priemernú hodnotu pre prvý stĺpec (power)\n",
    "print(\"power min: {0:.4f}, max: {1:.4f}, avg: {2:.4f}\".format(min, max, avg))\n",
    "min, max, avg = compute_stats(rows, 1) # vypočítame min, max a priemernú hodnotu pre druhý stĺpec (weight)\n",
    "print(\"weight min: {0:.4f}, max: {1:.4f}, avg: {2:.4f}\".format(min, max, avg))\n",
    "\n",
    "# pre textový stĺpec producer zozbierame zoznam hodnôt\n",
    "values = []\n",
    "for row in rows:\n",
    "    values.append(row[3]) # štvrtý stĺpec\n",
    "values.sort() # usporiadame hodnoty\n",
    "print(values)"
   ]
  },
  {
   "cell_type": "markdown",
   "metadata": {},
   "source": [
    "### Úloha 5.5\n",
    "\n",
    "Rozdeľte riešenie úlohy 4.5 na jednoduchšie podúlohy pre ktoré naprogramujte potrebné funkcie."
   ]
  },
  {
   "cell_type": "code",
   "execution_count": 7,
   "metadata": {},
   "outputs": [
    {
     "name": "stdout",
     "output_type": "stream",
     "text": [
      "african 1 0 1\n",
      "air-speed 0 1 1\n",
      "an 1 1 2\n",
      "arthur 1 0 1\n",
      "britons 1 0 1\n",
      "do 1 0 1\n",
      "european 1 0 1\n",
      "grail 1 0 1\n",
      "hee 0 2 2\n",
      "heh 0 1 1\n",
      "holy 1 0 1\n",
      "is 1 3 4\n",
      "it 1 0 1\n",
      "king 1 0 1\n",
      "mean 1 0 1\n",
      "name 0 1 1\n",
      "of 1 1 2\n",
      "or 1 0 1\n",
      "quest 0 1 1\n",
      "seek 1 0 1\n",
      "stop 0 1 1\n",
      "swallow 1 1 2\n",
      "the 2 1 3\n",
      "to 1 0 1\n",
      "unladen 0 1 1\n",
      "velocity 0 1 1\n",
      "what 1 3 4\n",
      "you 1 0 1\n",
      "your 0 2 2\n"
     ]
    }
   ],
   "source": [
    "def parse_text(text):\n",
    "    \"\"\"\n",
    "    Funkcia rozdelí text na riadky a slová, prevedie všetky písmená na malé a odstráni diakritiku\n",
    "\n",
    "    Parametre:\n",
    "    text - reťazec vstupného textu\n",
    "    \n",
    "    Návratová hodnota:\n",
    "    zoznam riadkov s vnorenými zoznamami slov\n",
    "    \"\"\"\n",
    "    # rozdelíme text na riadky\n",
    "    lines = text.split(\"\\n\")\n",
    "    words = []\n",
    "    for line in lines:\n",
    "        line = line.strip().lower() # odstránime prázdne znaky na začiatku a konci riadka a prevedieme všetky písmená na malé\n",
    "        for s in (\"...\", \",\", \".\", \"?\", \"'\", '\"', \":\"):\n",
    "            line = line.replace(s, \"\") # v cykle postupne odstránime diakritiku (nahradíme výskyty znakov diakritiky za prázdny reťazec)\n",
    "        words.append(line.split(\" \"))   # rozdelíme text na slová\n",
    "    return words\n",
    "\n",
    "def count_words_in_line(line, counts, index):\n",
    "    \"\"\"\n",
    "    Funkcia pripočíta počet výskytov slov na danú pozíciu v zozname počtu výskytov\n",
    "\n",
    "    Parametre:\n",
    "    line - zoznam slov\n",
    "    counts - mapa ktorá mapuje slovo na zoznam s počtom výskytov pre daný index\n",
    "    index - pozícia v zozname výskytov, ktorá sa má aktualizovať\n",
    "    \"\"\"\n",
    "    for w in line:\n",
    "        if w in counts:\n",
    "            # ak sa už slovo predtým vyskytlo, pripočítame jeden výskyt pre daný index a celkový počet\n",
    "            counts[w][index] += 1\n",
    "            counts[w][2] += 1\n",
    "        else:\n",
    "            # pre nové slovo inicializujeme počet pre index a celkový počet výskytov na 1\n",
    "            counts[w] = [0, 0, 1]\n",
    "            counts[w][index] = 1\n",
    "        \n",
    "def count_words(lines):\n",
    "    \"\"\"\n",
    "    Funkcia vypočíta početnosť slov pre zadané riadky pre postavy kráľa Artuša a strážcu mosta\n",
    "\n",
    "    Parametre:\n",
    "    lines - zoznam riadkov s vnorenými zoznamami slov\n",
    "    \n",
    "    Návratová hodnota:\n",
    "    mapa slov so zoznamami počtu výskytov\n",
    "    \"\"\"\n",
    "    counts = {}\n",
    "    for line in lines:\n",
    "        if line[0] == \"king\":\n",
    "            count_words_in_line(line[2:], counts, 0)\n",
    "        elif line[0] == \"bridgekeeper\":\n",
    "            count_words_in_line(line[1:], counts, 1)\n",
    "    return counts\n",
    "\n",
    "text = \"\"\"Bridgekeeper: Hee hee heh. Stop. What... is your name?\n",
    "King Arthur: It is 'Arthur', King of the Britons.\n",
    "Bridgekeeper: What... is your quest?\n",
    "King Arthur: To seek the Holy Grail.\n",
    "Bridgekeeper: What... is the air-speed velocity of an unladen swallow?\n",
    "King Arthur: What do you mean? An African or European swallow?\"\"\"\n",
    "\n",
    "counts = count_words(parse_text(text))\n",
    "for w in sorted(counts.keys()):\n",
    "    c = counts[w]\n",
    "    print(w, c[0], c[1], c[2])"
   ]
  },
  {
   "cell_type": "code",
   "execution_count": null,
   "metadata": {},
   "outputs": [],
   "source": []
  }
 ],
 "metadata": {
  "kernelspec": {
   "display_name": "Python 3",
   "language": "python",
   "name": "python3"
  },
  "language_info": {
   "codemirror_mode": {
    "name": "ipython",
    "version": 3
   },
   "file_extension": ".py",
   "mimetype": "text/x-python",
   "name": "python",
   "nbconvert_exporter": "python",
   "pygments_lexer": "ipython3",
   "version": "3.7.3"
  }
 },
 "nbformat": 4,
 "nbformat_minor": 2
}
