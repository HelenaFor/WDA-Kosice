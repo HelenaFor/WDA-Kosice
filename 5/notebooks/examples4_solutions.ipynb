{
 "cells": [
  {
   "cell_type": "markdown",
   "metadata": {},
   "source": [
    "### Úloha 4.4\n",
    "\n",
    "Naprogramujte funkciu `reverse_list(l)`, ktorá prehodí poradie prvkov zoznamu `l`."
   ]
  },
  {
   "cell_type": "code",
   "execution_count": 8,
   "metadata": {},
   "outputs": [
    {
     "data": {
      "text/plain": [
       "[-2, 10, 2, 8, 6, 1]"
      ]
     },
     "execution_count": 8,
     "metadata": {},
     "output_type": "execute_result"
    }
   ],
   "source": [
    "numbers = [1, 6, 8, 2, 10, -2]\n",
    "# očakávaný výstup reverse_list(numbers) = [-2, 10, 2, 8, 6, 1]\n",
    "\n",
    "def reverse_list(l):\n",
    "    # najjednoduchšie je vytvoriť si nový zoznam, do ktorého pridáme prvky v opačnom poradí\n",
    "    reverse = []\n",
    "    # vygenerujeme si postupnosť indexov [dĺžka zoznamu -1, dĺžka zoznamu -2, ..., 0]\n",
    "    # parametre funkcie range(od (vrátane), do (bez), krok)\n",
    "    for i in range(len(l) - 1, -1, -1):\n",
    "        reverse.append(l[i]) # postupne pridáme do výsledku prvky od konca\n",
    "    # zmeníme pôvodný zoznam s prehodenými hodnotami\n",
    "    l[:] = reverse\n",
    "\n",
    "# iné riešenie, kde sa mení priamo zoznam `l`\n",
    "def reverse_list2(l):\n",
    "    # pre prehodenie prvkov musíme prvý vymeniť s posledným, druhý s predposledným, atď.\n",
    "    # tzn. všeobecne musí platiť, že prvok na i-tej pozicii sa nahradí za prvok s indexom -(i + 1), pretože\n",
    "    # záporné indexy sa počítajú od konca od 1, nie od 0 (tzn. -1 je posledný prvok, -2 predposledný, atd.)\n",
    "    \n",
    "    # v cykle prejdeme len polovicu zoznamu, operátor // znamená celé delenie, tzn. 13 // 2 = 6\n",
    "    for i in range(len(l) // 2):\n",
    "        # vymeníme i-ty prvok a -(i + 1) prvok\n",
    "        tmp = l[i]         # uložíme si i-ty prvok do pomocnej premennej\n",
    "        l[i] = l[-(i + 1)] # i-ty prvok prepíšeme -(i + 1) prvkom od konca zoznamu \n",
    "        l[-(i + 1)] = tmp  # a -(i + 1) prvok na konci zoznamu nastavíme na predchádzajúcu hodnotu i-teho prvku\n",
    "\n",
    "reverse_list(numbers)\n",
    "numbers"
   ]
  },
  {
   "cell_type": "markdown",
   "metadata": {},
   "source": [
    "### Úloha 4.5\n",
    "\n",
    "Naprogramujte funkciu `to_celsius(temperature)`, ktorá prevedie stupne Fahrenheita na stupne Celzia podľa vzťahu `c/5 = (f-32)/9` (kde `c` sú stupne Celzia a `f` stupne Fahrenheita."
   ]
  },
  {
   "cell_type": "code",
   "execution_count": 15,
   "metadata": {},
   "outputs": [
    {
     "data": {
      "text/plain": [
       "232.7777777777778"
      ]
     },
     "execution_count": 15,
     "metadata": {},
     "output_type": "execute_result"
    }
   ],
   "source": [
    "temperatere = 32 # očakávaný výstup = 0\n",
    "\n",
    "temperature = 45 # očakávaný výstup = 7.222...\n",
    "\n",
    "temperature = 451 # očakávaný výstup = 232.777...\n",
    "\n",
    "def to_celsius(temperature):\n",
    "    c = (temperature - 32) * (5/9)\n",
    "    return c\n",
    "\n",
    "to_celsius(451)"
   ]
  },
  {
   "cell_type": "markdown",
   "metadata": {},
   "source": [
    "### Úloha 4.6\n",
    "\n",
    "Naprogramujte funkciu `is_palindrom(s)`, ktorá vráti `True` ak je reťazec `s` palindróm, tzn. číta sa rovnako z predu aj zo zadu (inak vráti `False`)."
   ]
  },
  {
   "cell_type": "code",
   "execution_count": null,
   "metadata": {},
   "outputs": [],
   "source": [
    "s = \"hannah\"  # očakávaný výstup = True\n",
    "s = \"peter\"   # očakávaný výstup = False\n",
    "s = \"anna\"    # očakávaný výstup = True\n",
    "s = \"saippuakivikauppias\" # očakávaný výstup = True"
   ]
  },
  {
   "cell_type": "markdown",
   "metadata": {},
   "source": [
    "### Úloha 4.7\n",
    "Napíšte funkciu `reshape_list(l, rows, columns)`, ktorá rozdelí zoznam hodnôt `l` do tabuľky s požadovaným počtom riadkov a stĺpcov. Ak je hodnôt v zozname menej než `rows x columns`, chýbajúce hodnoty doplní `None`."
   ]
  },
  {
   "cell_type": "code",
   "execution_count": null,
   "metadata": {},
   "outputs": [],
   "source": [
    "numbers = [1, 6, 8, 2, 10, -2, 8]\n",
    "\n",
    "# očakávaný výstup reshape_list(numbers, 4, 2) = [[1, 2], [8, 2], [10, -2], [8, None]]"
   ]
  },
  {
   "cell_type": "markdown",
   "metadata": {},
   "source": [
    "### Úloha 4.8\n",
    "\n",
    "Napíšte funkciu `check_password(s)`, ktorá skontroluje platnosť používateľského hesla. Heslo bude platné ak:\n",
    "* má dĺžku viac než 8 znakov\n",
    "* obsahuje aspoň jedno veľké písmeno\n",
    "* obsahuje aspoň jedno číslo\n",
    "* obsahuje aspoň jeden špeciálny znak `@#$`"
   ]
  },
  {
   "cell_type": "code",
   "execution_count": null,
   "metadata": {},
   "outputs": [],
   "source": [
    "s = \"Secret123\"  # očakávaný výstup = False\n",
    "s = \"#Secret123\" # očakávaný výstup = True"
   ]
  },
  {
   "cell_type": "markdown",
   "metadata": {},
   "source": [
    "### Úloha 4.9\n",
    "\n",
    "Napíšte funkciu `num_of_days(month)`, ktorá pre zadaný mesiac v roku vráti počet dní. Mesiac môže byť zadaný úplným názvom (napr. `január`), alebo trojpísmenovou skratkou (`jan.`). "
   ]
  },
  {
   "cell_type": "code",
   "execution_count": null,
   "metadata": {},
   "outputs": [],
   "source": []
  }
 ],
 "metadata": {
  "kernelspec": {
   "display_name": "Python 3",
   "language": "python",
   "name": "python3"
  },
  "language_info": {
   "codemirror_mode": {
    "name": "ipython",
    "version": 3
   },
   "file_extension": ".py",
   "mimetype": "text/x-python",
   "name": "python",
   "nbconvert_exporter": "python",
   "pygments_lexer": "ipython3",
   "version": "3.7.3"
  }
 },
 "nbformat": 4,
 "nbformat_minor": 2
}
