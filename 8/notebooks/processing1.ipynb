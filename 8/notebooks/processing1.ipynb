{
 "cells": [
  {
   "cell_type": "markdown",
   "metadata": {},
   "source": [
    "## Základné nastavenia\n",
    "\n",
    "Importujeme potrebné knižnice. Nasledujúci odstavec by mal byť spustený ako prvý predtým ako sa budú používať importované objekty `pd`, `np`, `plt` a `sns`."
   ]
  },
  {
   "cell_type": "code",
   "execution_count": null,
   "metadata": {},
   "outputs": [],
   "source": [
    "import pandas as pd\n",
    "import numpy as np\n",
    "import matplotlib.pyplot as plt\n",
    "import seaborn as sns\n",
    "\n",
    "# nastavíme zobrazovanie grafov priamo v odstavcoch zápisníka\n",
    "%matplotlib inline\n",
    "# inicializujeme knižnicu seaborn\n",
    "sns.set()"
   ]
  },
  {
   "cell_type": "markdown",
   "metadata": {},
   "source": [
    "## Možnosti pre načítavanie a zápis dát\n",
    "\n",
    "Knižnica `pandas` podoruje čítanie a zápis dát z rôznych formátov, ako napr. z textových CSV súborov, alebo súborov programu Microsoft Excel. Pre každý z podporovaných formátov je možné zmeniť nastavenia, ako napr. znak pre oddeľovať hodnôt, desatinnú čiarku, alebo či súbor obsahuje na prvom riadku hlavičku s názvami stĺpcov/atribútov.\n",
    "\n",
    "Viac o možnostiach načítavania a zápisu dát v knižnici `pandas` si môžete prečítať [tu](https://pandas.pydata.org/pandas-docs/stable/reference/io.html) (v angličtine)."
   ]
  },
  {
   "cell_type": "code",
   "execution_count": null,
   "metadata": {},
   "outputs": [],
   "source": [
    "# pre CSV súbory viete zmeniť napr. oddeľovač hodnôt (parameter `delimiter`) a znak desatinnej čiarky (`decimal`)\n",
    "# ak sa v súbore nenacháza hlavička s názvami atribútov na prvom riadku (parameter `header=None`), atribúty je možné pomenovať\n",
    "# v parametre `names`\n",
    "data = pd.read_csv(\"../data/iris.csv\", delimiter=\";\", decimal=\",\", header=None, names=[\"sepal_length\", \"sepal_width\", \"petal_length\", \"petal_width\", \"species\"])\n",
    "data.head()"
   ]
  },
  {
   "cell_type": "code",
   "execution_count": null,
   "metadata": {},
   "outputs": [],
   "source": [
    "# podobne môžete načítať dáta z Excel súboru (štandardne sa načíta dátová tabuľka z prvého zošitu)\n",
    "data = pd.read_excel(\"../data/iris.xlsx\")"
   ]
  },
  {
   "cell_type": "markdown",
   "metadata": {},
   "source": [
    "Pre zápis dát do súboru použite priamo metódy dátového rámca."
   ]
  },
  {
   "cell_type": "code",
   "execution_count": null,
   "metadata": {},
   "outputs": [],
   "source": [
    "# štandardne sa do súboru zapíše aj stĺpec s indexmi riadkov, ak chceme zapísať iba atribúty bez indexu, nastavíme `index=False`\n",
    "data.to_csv(\"../data/iris_processed.csv\", index=False)"
   ]
  },
  {
   "cell_type": "code",
   "execution_count": null,
   "metadata": {},
   "outputs": [],
   "source": [
    "# pri zápise si môžeme zvoliť, ktoré atribúty sa zapíšu\n",
    "data.to_excel(\"../data/iris_processed.xlsx\", index=False, columns=[\"sepal_length\", \"sepal_width\"])"
   ]
  },
  {
   "cell_type": "markdown",
   "metadata": {},
   "source": [
    "## Spájanie tabuliek\n",
    "\n",
    "Pre základné spájanie dát slúži metóda `concat`, ktorá umožňuje spojiť dáta po riadkoch, alebo po stĺpcoch zarovnaných podľa indexov jednotlivých riadkov. Knižnica `pandas` ďalej umožňuje spájanie tabuliek pomocou kľúčov podobne ako je to v relačných databázach pomocou jazyka SQL."
   ]
  },
  {
   "cell_type": "code",
   "execution_count": null,
   "metadata": {},
   "outputs": [],
   "source": [
    "# najprv si načítame a predspracujeme dáta s ktorými budeme pracovať: World Happiness Report z rokoch 2015 a 2016\n",
    "data_2015 = pd.read_csv(\"../data/2015.csv\") # dáta za rok 2015\n",
    "data_2015 = data_2015[[\"Country\", \"Rank\", \"Score\"]] # vyberieme iba stĺpce `Country`, `Rank` a `Score`\n",
    "# stĺpce `Rank` a `Score` si premenujeme na `Rank 2015` a `Score 2015`\n",
    "data_2015 = data_2015.rename(columns={\"Rank\":\"Rank 2015\", \"Score\":\"Score 2015\"})\n",
    "data_2015.head()"
   ]
  },
  {
   "cell_type": "code",
   "execution_count": null,
   "metadata": {},
   "outputs": [],
   "source": [
    "# podobne si predspracujeme dáta za rok 2016\n",
    "data_2016 = pd.read_csv(\"../data/2016.csv\")\n",
    "data_2016 = data_2016[[\"Country\", \"Rank\", \"Score\"]]\n",
    "data_2016 = data_2016.rename(columns={\"Rank\":\"Rank 2016\", \"Score\":\"Score 2016\"})\n",
    "data_2016.head()"
   ]
  },
  {
   "cell_type": "code",
   "execution_count": null,
   "metadata": {},
   "outputs": [],
   "source": [
    "# ak použije na spájanie metódu `concat` podľa stĺpcov (`axis=1`), dáta sa spoja podľa poradia v riadkoch\n",
    "# ak sa odlišuje počet riadkov v spájaných tabuľkách, dáta sa doplnia chýbajúcimi hodnotami\n",
    "data_all = pd.concat([data_2015, data_2016], axis=1)\n",
    "data_all.tail()"
   ]
  },
  {
   "cell_type": "code",
   "execution_count": null,
   "metadata": {},
   "outputs": [],
   "source": [
    "# pre spájanie tabuliek podľa kľúčov použijeme metódu `merge`\n",
    "# v základných parametroch nastavíme spájané dáta (pravú a ľavú tabuľku) a atribúty, ktoré sa použijú ako kľúč\n",
    "data_all = pd.merge(left=data_2015, right=data_2016, left_on=\"Country\", right_on=\"Country\")\n",
    "data_all.tail()"
   ]
  },
  {
   "cell_type": "code",
   "execution_count": null,
   "metadata": {},
   "outputs": [],
   "source": [
    "# skontrolujeme si počet riadkov a chýbajúcich hodnôt v spojenej tabuľke\n",
    "print(len(data_2015), len(data_2016), len(data_all))\n",
    "data_all.isna().sum()"
   ]
  },
  {
   "cell_type": "markdown",
   "metadata": {},
   "source": [
    "Štandardne sa pri spájaní do výslednej tabuľky zahrnú iba tie riadky, ktorých kľúč sa nachádzal v oboch spájaných tabuľkách (tzn. metóda `inner`). Ďalšie možnosti sú podobné ako v jazyku SQL:\n",
    "\n",
    "| Metóda merge | SQL | Popis |\n",
    "| --- | --- | --- |\n",
    "| left | LEFT OUTER JOIN | Iba kľúče z ľavej tabuľky |\n",
    "| right | RIGHT OUTER JOIN | Iba kľúče z pravej tabuľky |\n",
    "| outer | FULL OUTER JOIN | Vyber dáta ak majú kľúč v pravej alebo v ľavej tabuľke (zjednotenie) |\n",
    "| inner | INNER JOIN | Vyber dáta ak majú kľúč aj v pravej aj v ľavej tabuľke (prienik) |\n"
   ]
  },
  {
   "cell_type": "code",
   "execution_count": null,
   "metadata": {},
   "outputs": [],
   "source": [
    "# spájanie podľa kľúčov ľavej tabuľky (ak sa kľúč nenachádza v pravej tabuľke, doplnia sa chýbajúce hodnoty)\n",
    "data_all = pd.merge(left=data_2015, right=data_2016, left_on=\"Country\", right_on=\"Country\", how=\"left\")\n",
    "print(len(data_2015), len(data_2016), len(data_all))\n",
    "data_all.isna().sum()"
   ]
  },
  {
   "cell_type": "code",
   "execution_count": null,
   "metadata": {},
   "outputs": [],
   "source": [
    "# zjednotenie hodnôt z oboch tabuliek\n",
    "data_all = pd.merge(left=data_2015, right=data_2016, left_on=\"Country\", right_on=\"Country\", how=\"outer\")\n",
    "print(len(data_2015), len(data_2016), len(data_all))\n",
    "data_all.isna().sum()"
   ]
  },
  {
   "cell_type": "markdown",
   "metadata": {},
   "source": [
    "## Normalizovanie dát\n",
    "\n",
    "Pri niektorých metódach analýzy dát je potrebné porovnávať hodnoty atrubútov v rovnakých rozsahoch, tzn. dáta je potrebné *normalizovať*. Jedna zo základných metód je prevod do zvoleného intervalu (najčastejšie 0-1). Pre normalizovanie dát budeme používať objekty z knižnice `sklearn`, ktorá obsahuje viacero pokročilých metód a algoritmov pre analýzu dát."
   ]
  },
  {
   "cell_type": "code",
   "execution_count": null,
   "metadata": {},
   "outputs": [],
   "source": [
    "# naimportujeme si potrebné objekty z knižnice `sklearn`\n",
    "from sklearn.preprocessing import MinMaxScaler, StandardScaler\n",
    "\n",
    "# načítame si dátovú množinu `iris`\n",
    "iris = pd.read_csv(\"../../6/data/iris.csv\")\n",
    "# do premennej `iris_data` si uložíme číselné atribúty\n",
    "iris_data = iris[[\"sepal_length\", \"sepal_width\", \"petal_length\", \"petal_width\"]]\n",
    "# označenie druhov (triedy) si uložíme do premennej `iris_data`\n",
    "iris_labels = iris[\"species\"]"
   ]
  },
  {
   "cell_type": "code",
   "execution_count": null,
   "metadata": {},
   "outputs": [],
   "source": [
    "# pre normalizáciu dát do intervalu 0-1 použijeme objekt MinMaxScaler\n",
    "# vytvoríme si objekt normalizácie\n",
    "min_max = MinMaxScaler()\n",
    "# transformujeme dáta, výsledok je číselné pole knižnice `numpy`, ktoré nazad prevedieme na dátový rámec `pandas`\n",
    "norm_array = min_max.fit_transform(iris_data)\n",
    "# vytvoríme nový dátový rámec z `numpy` poľa, názvy stĺpcov zachováme z pôvodnej množiny `iris_data`\n",
    "iris_data_norm = pd.DataFrame(norm_array, columns=iris_data.columns)\n",
    "iris_data_norm.describe()"
   ]
  },
  {
   "cell_type": "markdown",
   "metadata": {},
   "source": [
    "*Štandardizácia* je špeciálna metóda normalizácie dát, kedy sa dáta prepočítajú tak, aby mali 0 strednú hodnotu (priemer) a 1 štandardnú odchýlku (resp. rozptyl). Pri prepočte sa od každej pôvodnej hodnoty odpočíta priemer pre celý stĺpec a výsledok sa vydelí štandardnou odchýlkou pôvodných dát."
   ]
  },
  {
   "cell_type": "code",
   "execution_count": null,
   "metadata": {},
   "outputs": [],
   "source": [
    "standard = StandardScaler()\n",
    "std_array = standard.fit_transform(iris_data)\n",
    "iris_data_std = pd.DataFrame(norm_array, columns=iris_data.columns)\n",
    "iris_data_std.describe()"
   ]
  },
  {
   "cell_type": "code",
   "execution_count": null,
   "metadata": {},
   "outputs": [],
   "source": [
    "# vykreslíme si histogram pôvodných, normalizovaných a štandardizovaných dát pre atribút `sepal_length`\n",
    "# vytvoríme si obrázok rozdelený na 1 riadok a 3 stĺpce, v každom stĺpci zobrazíme jeden histogram\n",
    "fig, axis = plt.subplots(1, 3)\n",
    "pl = iris_data[\"sepal_length\"].hist(ax=axis[0]) # `ax` parameter určuje v ktorej časti obrázka sa graf zobrazí\n",
    "pl = iris_data_norm[\"sepal_length\"].hist(ax=axis[1])\n",
    "pl = iris_data_std[\"sepal_length\"].hist(ax=axis[2])"
   ]
  },
  {
   "cell_type": "markdown",
   "metadata": {},
   "source": [
    "## Vizualizácia dát pomocou metódy hlavných komponentov\n",
    "\n",
    "Vizualizácia je veľmi užitočný nástroj pri analýze dát. Hlavným obmedzením pri vizualizácii dát je to, že je možné zobraziť iba dvoj a trojrozmerné grafy, tzn. naraz si v jednom grafe vieme zobraziť iba závislosti medzi 2-3 atribútmi (ďalšie atribúty môžeme použiť pre vykreslenie ďalších vizuálnych aspektov ako je napr. farba alebo veľkosť bodov a pod.)\n",
    "\n",
    "Ak si chceme naraz vizualizovať dáta s väčším počtom atribútov, musíme dátovú množinu premietnuť do menej rozmerného 2, alebo 3 rozmerného priestoru. Jednou z metód projekcie dát je metóda hlavných komponentov (*Principal Component Analysis* - PCA), ktorá sa snaží nájsť také premietnutie hodnôt atribútov, ktoré zachová čo najviac vzájomných vzťahov z pôvodných dát. Metóda PCA vypočíta z pôvodných atribútov nové atribúty - tzv. *hlavné komponenty*, ktoré sú usporiadané podľa toho, koľko informácií z pôvodných dát sa do nich premietne. Pre vizualizáciu si vypočítame a zobrazíme závislosť dvoch najdôležitejších komponentov, aby sme zobrazili čo najviac pôvodných vzťahov v dátach."
   ]
  },
  {
   "cell_type": "code",
   "execution_count": null,
   "metadata": {},
   "outputs": [],
   "source": [
    "# z knižnice `sklearn` si naimportujeme PCA metódu\n",
    "from sklearn.decomposition import PCA\n",
    "\n",
    "# vypočítame iba dva najdôležitejšie hlavné komponenty\n",
    "pca = PCA(n_components=2)\n",
    "pca_array = pca.fit_transform(iris_data_norm)\n",
    "# výsledok je `numpy` číselné pole, ktoré si skonvertujeme na dátový rámec `pandas`\n",
    "# stĺpce si pomenujeme `komponent_1` a `komponent_2`\n",
    "iris_data_pca = pd.DataFrame(pca_array, columns=[\"komponent_1\", \"komponent_2\"])\n",
    "\n",
    "# zobrazíme si ako vyzerajú príklady po premietnutí, hodnoty komponentov už nevieme jednoducho interpretovať\n",
    "iris_data_pca.head()"
   ]
  },
  {
   "cell_type": "code",
   "execution_count": null,
   "metadata": {},
   "outputs": [],
   "source": [
    "# zobrazíme si, koľko informácií (variancie) v pôvodných dátach je premietnutých do jednotlivých komponentov\n",
    "pca.explained_variance_ratio_"
   ]
  },
  {
   "cell_type": "code",
   "execution_count": null,
   "metadata": {},
   "outputs": [],
   "source": [
    "# spočítame si percentuálne koľko informácií je celkovo v prvých dvoch hlavných komponentoch, ktoré vizualizujeme\n",
    "print(\"{0:.4f}\".format(np.sum(pca.explained_variance_ratio_) * 100))"
   ]
  },
  {
   "cell_type": "code",
   "execution_count": null,
   "metadata": {},
   "outputs": [],
   "source": [
    "# spojíme si premietnuté dáta s pôvodnými označeniami príkladov a zobrazíme si dáta na X-Y grafe\n",
    "# farbu vykreslíme podľa priradenie do jednotlivých druhov rastlín\n",
    "iris_pca = pd.concat([iris_data_pca, iris_labels], axis=1)\n",
    "pl = sns.scatterplot(data=iris_pca, x=\"komponent_1\", y=\"komponent_2\", hue=\"species\")"
   ]
  },
  {
   "cell_type": "markdown",
   "metadata": {},
   "source": [
    "## Úlohy"
   ]
  },
  {
   "cell_type": "markdown",
   "metadata": {},
   "source": [
    "### Úloha 8.1\n",
    "\n",
    "Načítajte dáta World Happiness Record 2016 a 2017.\n",
    "\n",
    "* Vyberte iba atribúty `Country`, `Score` a `Rank`.\n",
    "* Spojte tabuľky podľa názvu štátu tak aby tam boli všetky hodnoty z oboch tabuliek. Atribúty `Score` a `Rank` vhodne premenujte podľa roku.\n",
    "* Pridajte nový atribút `Diff` ktorého hodnoty budú rovné `Score 2017` - `Score 2016`\n",
    "* Zobrazte histogram atribútu `Diff`.\n",
    "\n",
    "V roku 2017 je viac štátov, ktoré sa zlepšili, alebo zhoršili?"
   ]
  },
  {
   "cell_type": "markdown",
   "metadata": {},
   "source": [
    "### Úloha 8.2\n",
    "\n",
    "Načítajte dáta World Happiness Record 2017.\n",
    "\n",
    "* Vyberte do tabuľky iba základné faktory (`GDP`, `Family`, `Health`, `Freedom`, `Trust`, `Generosity`).\n",
    "* Normalizujte dáta do intervalu 0-1.\n",
    "* Pridajte do normalizovanej tabuľky názvy štátov a regiónov.\n",
    "* Uložte dáta do Excel súboru."
   ]
  },
  {
   "cell_type": "markdown",
   "metadata": {},
   "source": [
    "### Úloha 8.3\n",
    "\n",
    "Načítajte predspracované dáta z predchádzajúcej úlohy.\n",
    "\n",
    "* Vypočítajte dve hlavné komponenty.\n",
    "* Vizualizujte hlavné komponenty na X-Y grafe, ako farbu zobrazte región štátu.\n",
    "\n",
    "Čo viete povedať o centrálnej Európe? Koľko celkovej variancie pôvodných dát je zachovaných vo vizualizácii?"
   ]
  },
  {
   "cell_type": "code",
   "execution_count": null,
   "metadata": {},
   "outputs": [],
   "source": []
  }
 ],
 "metadata": {
  "kernelspec": {
   "display_name": "Python 3",
   "language": "python",
   "name": "python3"
  },
  "language_info": {
   "codemirror_mode": {
    "name": "ipython",
    "version": 3
   },
   "file_extension": ".py",
   "mimetype": "text/x-python",
   "name": "python",
   "nbconvert_exporter": "python",
   "pygments_lexer": "ipython3",
   "version": "3.7.4"
  }
 },
 "nbformat": 4,
 "nbformat_minor": 4
}
