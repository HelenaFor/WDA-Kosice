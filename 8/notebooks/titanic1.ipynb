{
 "cells": [
  {
   "cell_type": "markdown",
   "metadata": {},
   "source": [
    "## Základné nastavenia\n",
    "\n",
    "Importujeme potrebné knižnice. Nasledujúci odstavec by mal byť spustený ako prvý predtým ako sa budú používať importované objekty `pd`, `np`, `plt` a `sns`."
   ]
  },
  {
   "cell_type": "code",
   "execution_count": null,
   "metadata": {},
   "outputs": [],
   "source": [
    "import pandas as pd\n",
    "import numpy as np\n",
    "import matplotlib.pyplot as plt\n",
    "import seaborn as sns\n",
    "\n",
    "# nastavíme zobrazovanie grafov priamo v odstavcoch zápisníka\n",
    "%matplotlib inline\n",
    "# inicializujeme knižnicu seaborn\n",
    "sns.set()"
   ]
  },
  {
   "cell_type": "markdown",
   "metadata": {},
   "source": [
    "## Dátová množina - Titanic\n",
    "\n",
    "\n",
    "[RMS Titanic](https://en.wikipedia.org/wiki/RMS_Titanic) bola britská osobná loď, ktorá stroskotala 14 apríla 1912 na svojej prvej komerčnej plavbe. V čase svojej služby bola najväčšou plávajúcou loďou na svete. Pri nehode zahynulo viac než 1500 osôb z celkového odhadovaného počtu 2224 pasažierov a členov posádky.\n",
    "\n",
    "![RMS Titanic](titanic.jpg)\n",
    "[Zdroj](https://en.wikipedia.org/wiki/Sinking_of_the_RMS_Titanic)\n",
    "\n",
    "Dátová množina obsahuje informácie o pasažieroch Titanicu. Každý pasažier je popísaný nasledovnými atribútmi:\n",
    "* `pclass` - trieda, v ktorej pasažier cestoval\n",
    "* `survived` - udáva, či pasažier nehodu parníku prežil (1), alebo nie (0)\n",
    "* `name` - meno cestujúceho\n",
    "* `sex` - pohlavie\n",
    "* `age` - vek\n",
    "* `sibsp` - počet súrodencov pasažiera, resp. druhov/družiek\n",
    "* `parch` - počet rodičov/detí medzi cestujúcimi\n",
    "* `ticket` - číslo lístka\n",
    "* `fare` - výška cestovného\n",
    "* `cabin` - kajuta v ktorej bol cestujúci ubytovaný\n",
    "* `embarked` - prístav, kde cestujúci nastúpil (`S` - Southampton, `C` - Cherbourg, `Q` - Queenstown)"
   ]
  },
  {
   "cell_type": "code",
   "execution_count": null,
   "metadata": {},
   "outputs": [],
   "source": [
    "data = pd.read_csv(\"../data/titanic.csv\")\n",
    "print(data.shape)\n",
    "print(data.columns)"
   ]
  },
  {
   "cell_type": "code",
   "execution_count": null,
   "metadata": {},
   "outputs": [],
   "source": [
    "data.head()"
   ]
  },
  {
   "cell_type": "markdown",
   "metadata": {},
   "source": [
    "### Úprava hodnôt"
   ]
  },
  {
   "cell_type": "code",
   "execution_count": null,
   "metadata": {},
   "outputs": [],
   "source": [
    "data.drop(columns=\"ticket\", inplace=True)"
   ]
  },
  {
   "cell_type": "code",
   "execution_count": null,
   "metadata": {},
   "outputs": [],
   "source": [
    "data[\"embarked\"] = data[\"embarked\"].map({\"S\": \"Southampton\", \"Q\": 'Queenstown', \"C\":\"Cherbourg\"})\n",
    "data[\"embarked\"].value_counts()"
   ]
  },
  {
   "cell_type": "markdown",
   "metadata": {},
   "source": [
    "### Nahradenie chýbajúcich hodnôt 1"
   ]
  },
  {
   "cell_type": "code",
   "execution_count": null,
   "metadata": {},
   "outputs": [],
   "source": [
    "data.isna().sum()"
   ]
  },
  {
   "cell_type": "code",
   "execution_count": null,
   "metadata": {},
   "outputs": [],
   "source": [
    "p = data[\"fare\"].hist()"
   ]
  },
  {
   "cell_type": "code",
   "execution_count": null,
   "metadata": {},
   "outputs": [],
   "source": [
    "fare_mean = data[\"fare\"].mean()\n",
    "fare_median = data[\"fare\"].median()\n",
    "print(\"fare mean: {0:.4f}, median: {1:.4f}\".format(fare_mean, fare_median))"
   ]
  },
  {
   "cell_type": "code",
   "execution_count": null,
   "metadata": {},
   "outputs": [],
   "source": [
    "data[\"fare\"].fillna(fare_median, inplace=True)\n",
    "data[\"fare\"].isna().sum()"
   ]
  },
  {
   "cell_type": "markdown",
   "metadata": {},
   "source": [
    "### Úloha 8.1\n",
    "\n",
    "Chýbajúce hodnoty pre atribút `embarked` nahraďte najfrekventovanejšou hodnotou."
   ]
  },
  {
   "cell_type": "code",
   "execution_count": null,
   "metadata": {},
   "outputs": [],
   "source": [
    "# nahraďte chýbajúce hodnoty\n",
    "\n",
    "# skontrolujeme, že všetky chýbajúce hodnoty atribútu embarked boli nahradené\n",
    "data[\"embarked\"].isna().sum()"
   ]
  },
  {
   "cell_type": "markdown",
   "metadata": {},
   "source": [
    "### Odvodenie nových atribútov"
   ]
  },
  {
   "cell_type": "code",
   "execution_count": null,
   "metadata": {},
   "outputs": [],
   "source": [
    "data[\"family_members\"] = data.eval(\"sibsp + parch\")\n",
    "data[\"has_family\"] = data.eval(\"family_members > 0\")\n",
    "data[\"has_family\"].sum()"
   ]
  },
  {
   "cell_type": "code",
   "execution_count": null,
   "metadata": {},
   "outputs": [],
   "source": [
    "def extract_title(name):\n",
    "    if pd.isna(name):\n",
    "        return np.nan\n",
    "    start = name.find(\",\") + 2\n",
    "    end = name.find(\".\")\n",
    "    return name[start:end]\n",
    "\n",
    "data[\"title\"] = data[\"name\"].apply(extract_title)\n",
    "data.drop(columns=\"name\", inplace=True)\n",
    "data[\"title\"].value_counts()"
   ]
  },
  {
   "cell_type": "code",
   "execution_count": null,
   "metadata": {},
   "outputs": [],
   "source": [
    "def map_title(title):\n",
    "    if title in {\"Master\", \"Dr\", \"Rev\", \"Col\", \"Major\", \"Don\", \"Jonkheer\", \"Sir\", \"Dona\", \"Lady\", \"Capt\", \"the Countess\"}:\n",
    "        return \"rare title\"\n",
    "    elif title in {\"Mlle\", \"Ms\"}:\n",
    "        return \"Miss\"\n",
    "    elif title in {\"Mme\"}:\n",
    "        return \"Mrs\"\n",
    "    return title;\n",
    "\n",
    "data[\"title\"] = data[\"title\"].apply(map_title)\n",
    "data[\"title\"].value_counts()"
   ]
  },
  {
   "cell_type": "markdown",
   "metadata": {},
   "source": [
    "### Nahradenie chýbajúcich hodnôt 2"
   ]
  },
  {
   "cell_type": "code",
   "execution_count": null,
   "metadata": {},
   "outputs": [],
   "source": [
    "pd.pivot_table(data, index=[\"sex\", \"title\"], values=\"age\", aggfunc=[\"median\", \"mean\", \"min\", \"max\", \"count\"], margins=True)"
   ]
  },
  {
   "cell_type": "code",
   "execution_count": null,
   "metadata": {},
   "outputs": [],
   "source": [
    "l = data.query(\"sex == 'male' and title == 'rare title'\")[\"age\"].hist()"
   ]
  },
  {
   "cell_type": "code",
   "execution_count": null,
   "metadata": {},
   "outputs": [],
   "source": [
    "def replace_missing_age(row):\n",
    "    age = row[\"age\"]\n",
    "    sex = row[\"sex\"]\n",
    "    title = row[\"title\"]\n",
    "    if pd.isna(age):\n",
    "        if sex == \"female\" and title == \"Miss\":\n",
    "            return 24\n",
    "        elif sex == \"female\" and title == \"Mrs\":\n",
    "            return 32.5\n",
    "        elif sex == \"female\" and title == \"rare Title\":\n",
    "            return 43.5\n",
    "        elif sex == \"male\" and title == \"Mr\":\n",
    "            return 28\n",
    "        elif sex == \"male\" and title == \"rare Title\":\n",
    "            return 9.5\n",
    "        else:\n",
    "            return 28\n",
    "    else:\n",
    "        return age\n",
    "\n",
    "age1 = data[\"age\"].dropna()\n",
    "age2 = data.apply(replace_missing_age, axis=1)\n",
    "p = plt.hist([age1, age2])"
   ]
  },
  {
   "cell_type": "code",
   "execution_count": null,
   "metadata": {},
   "outputs": [],
   "source": [
    "data[\"age\"] = age2"
   ]
  },
  {
   "cell_type": "markdown",
   "metadata": {},
   "source": [
    "### Prevedenie číselných atribútov na ordinálne - _diskretizácia hodnôt_"
   ]
  },
  {
   "cell_type": "code",
   "execution_count": null,
   "metadata": {},
   "outputs": [],
   "source": [
    "data[\"fare\"].describe()"
   ]
  },
  {
   "cell_type": "code",
   "execution_count": null,
   "metadata": {},
   "outputs": [],
   "source": [
    "data[\"fare_ordinal\"] = pd.cut(data[\"fare\"], 3)\n",
    "data[\"fare_ordinal\"].value_counts()"
   ]
  },
  {
   "cell_type": "code",
   "execution_count": null,
   "metadata": {},
   "outputs": [],
   "source": [
    "p = data[\"fare\"].hist(bins=20)"
   ]
  },
  {
   "cell_type": "code",
   "execution_count": null,
   "metadata": {},
   "outputs": [],
   "source": [
    "data[\"fare_ordinal\"] = pd.qcut(data[\"fare\"], 3)\n",
    "data[\"fare_ordinal\"].value_counts()"
   ]
  },
  {
   "cell_type": "code",
   "execution_count": null,
   "metadata": {},
   "outputs": [],
   "source": [
    "data[\"fare_ordinal\"] = pd.cut(data[\"fare\"], bins=[0, 25, 100, 520])\n",
    "data[\"fare_ordinal\"].value_counts()"
   ]
  },
  {
   "cell_type": "code",
   "execution_count": null,
   "metadata": {},
   "outputs": [],
   "source": [
    "data[\"fare_ordinal\"] = pd.cut(data[\"fare\"], bins=[0, 25, 100, 520], labels=[\"normal\", \"more expensive\", \"most expensive\"])\n",
    "data[\"fare_ordinal\"].value_counts()"
   ]
  },
  {
   "cell_type": "markdown",
   "metadata": {},
   "source": [
    "### Úloha 8.2\n",
    "\n",
    "Odvoďte nový atribút `age_ordinal` diskretizovaním hodnôt `age` na intervaly 0-13, 13-19, 19-65, 65-maximálny vek s označeniami `child`, `young`, `adult`, `old`."
   ]
  },
  {
   "cell_type": "markdown",
   "metadata": {},
   "source": [
    "### Úloha 8.3\n",
    "\n",
    "Označenia kajuty začínajú písmenom, ktoré označuje palubu na ktorej sa kajuta nachádzala (napr. kajuta `C22` sa nachádzala na palube `C`, atď.). Pomocou metódy `apply` odvoďte nový atribút `deck` s označením paluby.\n",
    "\n",
    "Na ktorej palube by ste mali väčšiu šancu na záchranu?"
   ]
  },
  {
   "cell_type": "code",
   "execution_count": null,
   "metadata": {},
   "outputs": [],
   "source": []
  }
 ],
 "metadata": {
  "kernelspec": {
   "display_name": "Python 3",
   "language": "python",
   "name": "python3"
  },
  "language_info": {
   "codemirror_mode": {
    "name": "ipython",
    "version": 3
   },
   "file_extension": ".py",
   "mimetype": "text/x-python",
   "name": "python",
   "nbconvert_exporter": "python",
   "pygments_lexer": "ipython3",
   "version": "3.7.2"
  }
 },
 "nbformat": 4,
 "nbformat_minor": 2
}
