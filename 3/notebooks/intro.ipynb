{
 "cells": [
  {
   "cell_type": "markdown",
   "metadata": {},
   "source": [
    "## Jazyk Python\n",
    "\n",
    "Váš program v jazyku Python zapísaný v zdrojovom texte (_zdrojovom kóde_) viete priamo spustiť pomocou _Interpretera_. Interpret je program, ktorý načíta váš zdrojový kód a priamo vykoná príkazy, ktoré ste v ňom zapísali (tzn. interpretuje zdrojový kód, preto sa jazyk Python označuje ako tzv. interpretovaný jazyk). Prostredie JupyterLab spustí Interpreter na pozadí vždy keď pracujete s dokumentom zápisníka, vykoná v ňom kód jednotlivých odstavcov ktoré spustíte, a zobrazí vám výsledky."
   ]
  },
  {
   "cell_type": "markdown",
   "metadata": {},
   "source": [
    "## Prvý program"
   ]
  },
  {
   "cell_type": "markdown",
   "metadata": {},
   "source": [
    "Tradične, keď sa začínate učiť nový programovací jazyk, mali by ste sa v ňom pokúsiť vypísať jednoduchú správu na obrazovku. V Pythone na to môžete použiť nasledujúci príkaz:"
   ]
  },
  {
   "cell_type": "code",
   "execution_count": null,
   "metadata": {},
   "outputs": [],
   "source": [
    "print(\"Hello world...\")"
   ]
  },
  {
   "cell_type": "markdown",
   "metadata": {},
   "source": [
    "Príkaz `print(\"Hello world...\")` predstavuje volanie funkcie. Slovo `print` je názov funkcie za ktorým nasleduje zoznam parametrov funkcie ohraničený zátvorkami. V tomto prípade sme funkciu zavolali iba s jedným parametrom - reťazcom, ktorý obsahuje textovú správu `\"Hello world...\"`. Text je v reťazcoch ohraničený úvodzovkami `\"`. Funkcia `print` je priamo zabudovaná v jazyku Python, ale neskôr sa naučíme ako si môžete naprogramovať vlastné funkcie."
   ]
  },
  {
   "cell_type": "markdown",
   "metadata": {},
   "source": [
    "### Premenné\n",
    "\n",
    "Premenné slúžia na uchovávanie medzivýsledkov pri výpočte a môžete ich definovať zápisom `[meno premennej] = [hodnota]`. Meno premennej si môžete zvoliť, ale malo by dostatočne popisovať účel premennej. Pre pomenovanie premenných by ste mali ďalej dodržiavať tieto pravidlá:\n",
    "\n",
    "* Premenné označujte názvami s malými písmenami a nepoužívajte znaky s diakritikou. Viacslovné názvy oddeľujte `_` (napr. `process_data`).\n",
    "* Premenné, ktoré budú slúžiť v programe ako konštanty a ktoré sa nebudú pri spustení meniť pomenujte veľkými písmenami oddelenými `_` (napr. `DEFAULT_VALUE`)."
   ]
  },
  {
   "cell_type": "code",
   "execution_count": null,
   "metadata": {},
   "outputs": [],
   "source": [
    "# komentáre v Pythone začínajú znakom # a pokračujú do konca riadka.\n",
    "# komentáre používajte na pridávanie krátkych vysvetľujúcich poznámok o kóde, dlhšie dokumentačné texty zapíšte do textového odstavca a sformátujte Markdownom\n",
    "s = \"Hello world...\"\n",
    "print(s) # = s (komentáre nemusia začínať na začiatku riadka.)"
   ]
  },
  {
   "cell_type": "markdown",
   "metadata": {},
   "source": [
    "Ak sa pokúsite pristupovať k premennej ktorej ste nepriradili žiadnu hodnotu, Interpreterer skončí chybou `NameError: name 'názov premennej' is not defined`. Ak chcete definovať premennú s prázdnou hodnotou, môžete ako hodnotu zadať konštantu `None`. Napr. nasledujúci kód skončí chybou, pretože sme nedefinovali premennú s názvom `unknown_variable`."
   ]
  },
  {
   "cell_type": "code",
   "execution_count": null,
   "metadata": {},
   "outputs": [],
   "source": [
    "print(unknown_variable)"
   ]
  },
  {
   "cell_type": "markdown",
   "metadata": {},
   "source": [
    "Ak chceme vypísať hodnotu niektorej premennej, nemusíme používať funkciu `print`, stačí jej meno uviesť ako posledný výraz v odstavci, napr.: "
   ]
  },
  {
   "cell_type": "code",
   "execution_count": null,
   "metadata": {},
   "outputs": [],
   "source": [
    "x = 1\n",
    "x"
   ]
  },
  {
   "cell_type": "markdown",
   "metadata": {},
   "source": [
    "Po vytvorení premennej v jednom odstavci je premenná dostupná aj v ďalších odstavcoch, ktoré sa na ňu odkazujú, tzn. môžeme napr. ďalej pristupovať k premennej `x`, alebo `s` definovanej vyššie. Môžeme aj zmeniť ich hodnotu, čo sa prejaví vo **všekých** odstavcoch, ktoré sa na ňu odkazujú. Python neohraničuje typy premenných, tzn. do jednej premennej môžete zapísať napr. číslo a neskôr reťazec, alebo iný objekt.\n",
    "\n",
    "Funkciu `print` môžeme volať aj s viacerými parametrami. `print` vypíše na obrazovku hodnoty všetkých parametrov v uvedenom poradí na jednom riadku a oddelí ich medzerou. Neskôr sa naučíme lepší spôsob formátovania vypisovaných správ."
   ]
  },
  {
   "cell_type": "code",
   "execution_count": null,
   "metadata": {},
   "outputs": [],
   "source": [
    "s = \"one\" # zmenili sme hodnotu premennej s a priradili sme jej reťazec \"one\"\n",
    "# viacero parametrov je pri volaní funkcie oddelených čiarkou\n",
    "print(\"Python is number\", s, \"!!!\") # = Python is number one !!!"
   ]
  },
  {
   "cell_type": "markdown",
   "metadata": {},
   "source": [
    "Odstavce môžete spustiť viac krát, napr. nasledujúci kód vždy po spustení pripočíta k premennej `x`, ktorú sme predtým inicializovali na 1, hodnotu 1. "
   ]
  },
  {
   "cell_type": "code",
   "execution_count": null,
   "metadata": {},
   "outputs": [],
   "source": [
    "x = x + 1\n",
    "x"
   ]
  },
  {
   "cell_type": "markdown",
   "metadata": {},
   "source": [
    "Dávajte si pozor aj na to, že odstavce môžete spustiť v inom poradí než ako sú zapísané v zápisníku, čo môže zmeniť výsledky výpočtov. Preto v návodoch vždy postupujte za sebou v poradí a spustite aspoň raz každý odstavec, ktorý inicializuje premenné."
   ]
  },
  {
   "cell_type": "markdown",
   "metadata": {},
   "source": [
    "## Úlohy\n",
    "\n",
    "### Úloha 1\n",
    "Vytvorte premennú `name` do ktorej priradíte Vaše meno. Potom výpíšte správu, ktorá zobrazí Vaše meno a priezvisko, pričom sa odkazujte na premennú `name`.\n",
    "\n",
    "### Úloha 2\n",
    "Vytvorte premenné `day` a `month` do ktorej priradíte deň a mesiac Vaších narodenín. Spočítajte ich hodnoty, vydeľte ich Vaším šťastným číslom a vypíšte výsledok na obrazovku (pre súčet a delenie dvoch hodnôt môžete použiť operátory `+` a `/`)."
   ]
  },
  {
   "cell_type": "code",
   "execution_count": null,
   "metadata": {},
   "outputs": [],
   "source": []
  }
 ],
 "metadata": {
  "kernelspec": {
   "display_name": "Python 3",
   "language": "python",
   "name": "python3"
  },
  "language_info": {
   "codemirror_mode": {
    "name": "ipython",
    "version": 3
   },
   "file_extension": ".py",
   "mimetype": "text/x-python",
   "name": "python",
   "nbconvert_exporter": "python",
   "pygments_lexer": "ipython3",
   "version": "3.7.2"
  }
 },
 "nbformat": 4,
 "nbformat_minor": 2
}
