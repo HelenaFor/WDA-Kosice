{
 "cells": [
  {
   "cell_type": "markdown",
   "metadata": {},
   "source": [
    "## Prediktívne modelovanie - regresia (pomocou lineárnej regresie)\n",
    "\n",
    "V tomto príklade si demonštrujeme ukážku riešenia prediktívnej úlohy regresného typu - úlohy, kedy je predikovaný atribút spojitý. Spôsob modelovania a príravy na modelovanie korešponduje s klasifikačnými úlohami (spôsob rozdelenia dát na trénovacie a testovacie, trénovanie modelu). \n",
    "\n",
    "Najprv importujeme niektoré potrebné knižnice. "
   ]
  },
  {
   "cell_type": "code",
   "execution_count": null,
   "metadata": {},
   "outputs": [],
   "source": [
    "import matplotlib.pyplot as plt\n",
    "import numpy as np\n",
    "import pandas as pd"
   ]
  },
  {
   "cell_type": "markdown",
   "metadata": {},
   "source": [
    "Načítanie datasetu Diabetes pomocou funkcie `load_diabetes`. Dataset v premennej `diabetes` obsahuje vektorizované dáta, v stĺpci `data` sú dáta zo vstupných atribútov, v stĺpci `target` hodnoty cieľového atribútu. "
   ]
  },
  {
   "cell_type": "code",
   "execution_count": null,
   "metadata": {},
   "outputs": [],
   "source": [
    "from sklearn import datasets\n",
    "diabetes = datasets.load_diabetes()\n"
   ]
  },
  {
   "cell_type": "markdown",
   "metadata": {},
   "source": [
    "Pre lepšie zobrazenie dát si dáta môžeme previesť a zobraziť ako dátový rámec - pracovať však už môžeme priamo s vektorovou podobou dát. \n",
    "`diabetes['data']` obsahuje 10 stĺpcov, v ktorých sú zakódované hodnoty parametrov pacientov (Vek, Pohlavie, BMI index, priemerný krvný tlak, atď.). Predikovaná veličina `diabetes['target']` vyjadruje kvantitatívnu mieru progresu ochorenia rok po úvodnom meraní. "
   ]
  },
  {
   "cell_type": "code",
   "execution_count": null,
   "metadata": {},
   "outputs": [],
   "source": [
    "df = pd.DataFrame(diabetes['data'])\n",
    "df.head()"
   ]
  },
  {
   "cell_type": "markdown",
   "metadata": {},
   "source": [
    "Pomocou funkcie `train_test_split` rozdelíme dáta do trénovacej a testovacej množiny. Keďže v `diabetes` už máme vektorizované dáta, v stĺpci `data` predikujúce atribúty a v stĺpci `target` predikovaný atribút, môžeme ich priamo priradiť do premenných X (matica príznakov) a y (vektor hodnôt cieľového atribútu)"
   ]
  },
  {
   "cell_type": "code",
   "execution_count": null,
   "metadata": {},
   "outputs": [],
   "source": [
    "from sklearn.model_selection import train_test_split\n",
    "\n",
    "X = diabetes['data']\n",
    "y = diabetes['target']\n",
    "\n",
    "X_train, X_test, y_train, y_test = train_test_split(X, y, test_size=.3)"
   ]
  },
  {
   "cell_type": "markdown",
   "metadata": {},
   "source": [
    "Importujeme knižnicu pre lineárny regresný model - lineárnu regresiu. Model inicializujeme a natrénujeme na trénovacej množine."
   ]
  },
  {
   "cell_type": "code",
   "execution_count": null,
   "metadata": {},
   "outputs": [],
   "source": [
    "from sklearn.linear_model import LinearRegression\n",
    "\n",
    "lm = LinearRegression()\n",
    "model = lm.fit(X_train, y_train)"
   ]
  },
  {
   "cell_type": "markdown",
   "metadata": {},
   "source": [
    "Po netrénovaní môžeme model overiť na testovacej množine. Pomocou funkcie `predict` vypočítame predikcie pre dáta z testovacej množiny a uložíme ich do premennej `y_model`.  \n",
    "\n",
    "Pre porovnanie skutočných hodnôt z testovacej množiny a predikovaných hodnôt môžeme vytvoriť tabuľku (ako Pandas dátový rámec), kde veľa seba vypíšeme skutočné hodnoty z testovacej množiny `y_test` a modelom predikované hodnoty `y_model`."
   ]
  },
  {
   "cell_type": "code",
   "execution_count": null,
   "metadata": {},
   "outputs": [],
   "source": [
    "y_model = model.predict(X_test)\n",
    "\n",
    "summary_df = pd.DataFrame()\n",
    "summary_df['target'] = y_test\n",
    "summary_df['prediction'] = y_model\n",
    "\n",
    "print(summary_df)"
   ]
  },
  {
   "cell_type": "code",
   "execution_count": null,
   "metadata": {},
   "outputs": [],
   "source": [
    "summary_df.plot(kind=\"scatter\", x=\"target\", y=\"prediction\")"
   ]
  },
  {
   "cell_type": "markdown",
   "metadata": {},
   "source": [
    "Podobne ako pri klasifikačných úlohách, môžeme z týchto výsledkov vypočítať viaceré metriky, ktoré umožňujú porovnať regresné modely, resp. vyjadriť kvalitu daného regresného modelu. Pre regresné modely sa používa niekoľko metrík:\n",
    "\n",
    "* priemerná absoútna chyba - ukazuje veľkosť celkovej chyby, ktorá vznikla pri predikcie (veľké chyby nie sú v tomto ukazovateli penalizované)\n",
    "* priemerná kvadratická chyba - veličina vyjadrujú přesnosť odhadov pomocou strednej hodnoty druhých mocnín rozdielov medzi predikovanou hodnotou a skutočnosťou (penalizuje extrémne chyby, alebo inými slovami, MSE je oveľa viac ovplyvnená veľkými chybami ako malými)\n",
    "* R2 skóre - Koeficient determinácie, v rozsahu od 0 (žiadny lineárny vzťah) do 1 (absolútny lineárny vzťah, či už pozitívny alebo negatívny)\n"
   ]
  },
  {
   "cell_type": "code",
   "execution_count": null,
   "metadata": {},
   "outputs": [],
   "source": [
    "from sklearn.metrics import mean_absolute_error\n",
    "mae = mean_absolute_error(y_test, y_model)\n",
    "\n",
    "from sklearn.metrics import mean_squared_error\n",
    "mse = mean_squared_error(y_test, y_model)\n",
    "\n",
    "from sklearn.metrics import r2_score \n",
    "r2 = r2_score(y_test, y_model)\n",
    "\n",
    "print(\"MAE:\", mae)\n",
    "print(\"MSE:\", mse)\n",
    "print(\"R2 Score:\", r2)"
   ]
  },
  {
   "cell_type": "code",
   "execution_count": null,
   "metadata": {},
   "outputs": [],
   "source": []
  }
 ],
 "metadata": {
  "kernelspec": {
   "display_name": "Python 3",
   "language": "python",
   "name": "python3"
  },
  "language_info": {
   "codemirror_mode": {
    "name": "ipython",
    "version": 3
   },
   "file_extension": ".py",
   "mimetype": "text/x-python",
   "name": "python",
   "nbconvert_exporter": "python",
   "pygments_lexer": "ipython3",
   "version": "3.7.3"
  }
 },
 "nbformat": 4,
 "nbformat_minor": 4
}
