{
 "cells": [
  {
   "cell_type": "markdown",
   "metadata": {},
   "source": [
    "# Klasifikácia pomocou rozhodovacích stromov\n",
    "\n",
    "Rozhodovacie stromy patria medzi populárne metódy klasifikácie. Medzi podstatné vlastnosti, kvôli ktorým sú klasifikátory na báze rozhodovacích stromov obľúbené, je ich interpretovateľnosť. Stromy predstavujú dobre pochopiteľnú a zároveň prezentovateľnú štruktúru, ktorá môže byť vhodná, ak je potrebné vnútornú štruktúru modelu (a teda aj spôsob, ako model \"dospel\" k danému výsledku) vysvetliť alebo prezentovať. "
   ]
  },
  {
   "cell_type": "markdown",
   "metadata": {},
   "source": [
    "Klasifikátor rozhodovacích stromov je v knižnici Scikit-learn implementovaný triedou `DecisionTreeClassifier`. \n",
    "\n",
    "Aj napriek faktu, že mnoho algoritmov pre indukciu rozhodovacích stromov je schopných pracovať s kategorickými atribútmi, implementácia tohoto klasifikátora v Scikit-learn bohužiaľ s kategorickými premennými pracovať nevie. Dáta je preto nutné predspracovať, transformovaním kategorických atribútov na numerické. Odporúča sa na všetky atribúty bez usporiadania transformovať pomocou One Hot Encoderu. \n",
    "\n",
    "Okrem toho, z datasetu v prípade rozhodovacích stromov môžeme odstrániť irelevantné a redundantné atribúty. V prípade datasetu Titanic teda môžeme odstrániť atribúty `age_ordinal` a `fare_ordinal`, keďže vznikli odvodením z existujúcich atribútov `age` a `fare`. \n",
    "\n",
    "Rozhodovacie stromy ale nevyžadujú normalizáciu atribútov."
   ]
  },
  {
   "cell_type": "code",
   "execution_count": 47,
   "metadata": {},
   "outputs": [
    {
     "data": {
      "text/html": [
       "<div>\n",
       "<style scoped>\n",
       "    .dataframe tbody tr th:only-of-type {\n",
       "        vertical-align: middle;\n",
       "    }\n",
       "\n",
       "    .dataframe tbody tr th {\n",
       "        vertical-align: top;\n",
       "    }\n",
       "\n",
       "    .dataframe thead th {\n",
       "        text-align: right;\n",
       "    }\n",
       "</style>\n",
       "<table border=\"1\" class=\"dataframe\">\n",
       "  <thead>\n",
       "    <tr style=\"text-align: right;\">\n",
       "      <th></th>\n",
       "      <th>pclass</th>\n",
       "      <th>survived</th>\n",
       "      <th>sex</th>\n",
       "      <th>age</th>\n",
       "      <th>sibsp</th>\n",
       "      <th>parch</th>\n",
       "      <th>fare</th>\n",
       "      <th>family</th>\n",
       "      <th>has_family</th>\n",
       "      <th>embarked_Cherbourg</th>\n",
       "      <th>embarked_Queenstown</th>\n",
       "      <th>embarked_Southampton</th>\n",
       "      <th>title_short_Miss</th>\n",
       "      <th>title_short_Mr</th>\n",
       "      <th>title_short_Mrs</th>\n",
       "      <th>title_short_rare title</th>\n",
       "    </tr>\n",
       "  </thead>\n",
       "  <tbody>\n",
       "    <tr>\n",
       "      <td>0</td>\n",
       "      <td>1</td>\n",
       "      <td>1</td>\n",
       "      <td>1</td>\n",
       "      <td>29.00</td>\n",
       "      <td>0</td>\n",
       "      <td>0</td>\n",
       "      <td>211.3375</td>\n",
       "      <td>0</td>\n",
       "      <td>0</td>\n",
       "      <td>0</td>\n",
       "      <td>0</td>\n",
       "      <td>1</td>\n",
       "      <td>1</td>\n",
       "      <td>0</td>\n",
       "      <td>0</td>\n",
       "      <td>0</td>\n",
       "    </tr>\n",
       "    <tr>\n",
       "      <td>1</td>\n",
       "      <td>1</td>\n",
       "      <td>1</td>\n",
       "      <td>0</td>\n",
       "      <td>0.92</td>\n",
       "      <td>1</td>\n",
       "      <td>2</td>\n",
       "      <td>151.5500</td>\n",
       "      <td>3</td>\n",
       "      <td>1</td>\n",
       "      <td>0</td>\n",
       "      <td>0</td>\n",
       "      <td>1</td>\n",
       "      <td>0</td>\n",
       "      <td>0</td>\n",
       "      <td>0</td>\n",
       "      <td>1</td>\n",
       "    </tr>\n",
       "    <tr>\n",
       "      <td>2</td>\n",
       "      <td>1</td>\n",
       "      <td>0</td>\n",
       "      <td>1</td>\n",
       "      <td>2.00</td>\n",
       "      <td>1</td>\n",
       "      <td>2</td>\n",
       "      <td>151.5500</td>\n",
       "      <td>3</td>\n",
       "      <td>1</td>\n",
       "      <td>0</td>\n",
       "      <td>0</td>\n",
       "      <td>1</td>\n",
       "      <td>1</td>\n",
       "      <td>0</td>\n",
       "      <td>0</td>\n",
       "      <td>0</td>\n",
       "    </tr>\n",
       "    <tr>\n",
       "      <td>3</td>\n",
       "      <td>1</td>\n",
       "      <td>0</td>\n",
       "      <td>0</td>\n",
       "      <td>30.00</td>\n",
       "      <td>1</td>\n",
       "      <td>2</td>\n",
       "      <td>151.5500</td>\n",
       "      <td>3</td>\n",
       "      <td>1</td>\n",
       "      <td>0</td>\n",
       "      <td>0</td>\n",
       "      <td>1</td>\n",
       "      <td>0</td>\n",
       "      <td>1</td>\n",
       "      <td>0</td>\n",
       "      <td>0</td>\n",
       "    </tr>\n",
       "    <tr>\n",
       "      <td>4</td>\n",
       "      <td>1</td>\n",
       "      <td>0</td>\n",
       "      <td>1</td>\n",
       "      <td>25.00</td>\n",
       "      <td>1</td>\n",
       "      <td>2</td>\n",
       "      <td>151.5500</td>\n",
       "      <td>3</td>\n",
       "      <td>1</td>\n",
       "      <td>0</td>\n",
       "      <td>0</td>\n",
       "      <td>1</td>\n",
       "      <td>0</td>\n",
       "      <td>0</td>\n",
       "      <td>1</td>\n",
       "      <td>0</td>\n",
       "    </tr>\n",
       "  </tbody>\n",
       "</table>\n",
       "</div>"
      ],
      "text/plain": [
       "   pclass  survived  sex    age  sibsp  parch      fare  family  has_family  \\\n",
       "0       1         1    1  29.00      0      0  211.3375       0           0   \n",
       "1       1         1    0   0.92      1      2  151.5500       3           1   \n",
       "2       1         0    1   2.00      1      2  151.5500       3           1   \n",
       "3       1         0    0  30.00      1      2  151.5500       3           1   \n",
       "4       1         0    1  25.00      1      2  151.5500       3           1   \n",
       "\n",
       "   embarked_Cherbourg  embarked_Queenstown  embarked_Southampton  \\\n",
       "0                   0                    0                     1   \n",
       "1                   0                    0                     1   \n",
       "2                   0                    0                     1   \n",
       "3                   0                    0                     1   \n",
       "4                   0                    0                     1   \n",
       "\n",
       "   title_short_Miss  title_short_Mr  title_short_Mrs  title_short_rare title  \n",
       "0                 1               0                0                       0  \n",
       "1                 0               0                0                       1  \n",
       "2                 1               0                0                       0  \n",
       "3                 0               1                0                       0  \n",
       "4                 0               0                1                       0  "
      ]
     },
     "execution_count": 47,
     "metadata": {},
     "output_type": "execute_result"
    }
   ],
   "source": [
    "# Titanic import a preprocessing\n",
    "\n",
    "import pandas as pd\n",
    "import numpy as np\n",
    "import matplotlib.pyplot as plt\n",
    "\n",
    "%matplotlib inline\n",
    "\n",
    "\n",
    "titanic = pd.read_csv(\"../data/titanic-processed.csv\")\n",
    "\n",
    "titanic = titanic.drop(columns=['cabin','ticket','title','deck','fare_ordinal','age_ordinal'])\n",
    "\n",
    "titanic['sex'] = titanic['sex'].map({\"male\": 0, \"female\": 1})\n",
    "titanic['has_family'] = titanic['has_family'].map({False: 0, True: 1})\n",
    "\n",
    "titanic = pd.get_dummies(titanic, columns=['embarked', 'title_short'])\n",
    "\n",
    "titanic.head()"
   ]
  },
  {
   "cell_type": "code",
   "execution_count": 48,
   "metadata": {},
   "outputs": [
    {
     "name": "stdout",
     "output_type": "stream",
     "text": [
      "(1309, 15)\n",
      "(1309,)\n"
     ]
    }
   ],
   "source": [
    "X_titanic = titanic.drop('survived', axis=1) # vytvoríme maticu príznakov - použijeme všetky stĺpce okrem cieľového atribútu a uložíme do X_titanic\n",
    "y_titanic = titanic['survived'] # vytvoríme vektor hodnôt cieľového atribútu ako stĺpec 'survived'\n",
    "\n",
    "print(X_titanic.shape) # pre kontrolu môžeme vypísať rozmery matice hodnôt a vektora cieľového atribútu\n",
    "print(y_titanic.shape)\n",
    "\n",
    "from sklearn.model_selection import train_test_split # importujeme funkciu train_test_split()\n",
    "X_train, X_test, y_train, y_test = train_test_split(X_titanic, y_titanic, test_size=0.3, random_state=1) # rozdelíme dataset do trénovacej a testovacej časti, tak že testovacia bude 30% z celkového datasetu"
   ]
  },
  {
   "cell_type": "markdown",
   "metadata": {},
   "source": [
    "Model klasifikátora na báze rozhodovacích stromov potom trénujeme podobne, ako v prípade modelu k-NN. Použijeme triedu `DecisionTreeClassifier`, inicializujeme model (prípadne nastavíme parametre modelu) a model natrénujeme na trénovacích dátach. \n",
    "\n",
    "Pri učení stromového modelu môžeme model nastavovať nasledovými parmetrami:\n",
    "* criterion - kritérium pre výber atribútu: \"gini\" alebo \"entropy\"\n",
    "* max_depth - maximálna hĺbka stromu (ak je nastavená na None, expanduje sa kompletný strom)\n",
    "* min_samples_split - najmenší počet príkladov potrebných pre vetvenie uzlu\n",
    "* min_samples_leaf - najmenší možný počet príkladov v listovom uzle\n",
    "* presort - True/False - utriedenie atribútov pre urýchlenie trénovania"
   ]
  },
  {
   "cell_type": "code",
   "execution_count": 49,
   "metadata": {},
   "outputs": [
    {
     "name": "stdout",
     "output_type": "stream",
     "text": [
      "Presnosť (accuracy) modelu: 0.821882951653944\n",
      "Presnosť (precision) modelu: 0.7919463087248322\n",
      "Návratnosť (recall) modelu: 0.7515923566878981\n",
      "[[205  31]\n",
      " [ 39 118]]\n"
     ]
    }
   ],
   "source": [
    "from sklearn.tree import DecisionTreeClassifier # Importovanie triedy zodpovedajúcej modelu, ktorý budeme trénovať\n",
    "from sklearn.metrics import confusion_matrix\n",
    "\n",
    "dt = DecisionTreeClassifier(max_depth=3)   # Inicializácia stromového modelu   \n",
    "dt.fit(X_train, y_train)        # Trénovanie modelu na trénovacej množine \n",
    "y_dt = dt.predict(X_test)       # Otestovanie modelu na testovacej množine\n",
    "\n",
    "from sklearn.metrics import accuracy_score,precision_score, recall_score # vypočítanie metrík kvality modelu\n",
    "\n",
    "print(f\"Presnosť (accuracy) modelu: {accuracy_score(y_test, y_dt)}\")\n",
    "print(f\"Presnosť (precision) modelu: {precision_score(y_test, y_dt)}\")\n",
    "print(f\"Návratnosť (recall) modelu: {recall_score(y_test, y_dt)}\")\n",
    "\n",
    "cm = confusion_matrix(y_test, y_dt)  # vypísanie kontigenčnej tabuľky\n",
    "print(cm)"
   ]
  },
  {
   "cell_type": "markdown",
   "metadata": {},
   "source": [
    "#### Zobrazenie stromového modelu\n",
    "\n",
    "Ako sme na úvod spomínali, stromový model je možné vizualizovať, čo je podstatné pre pochopenie modelu a spôsobu jeho fungovania. Na druhej strane - podstatný faktor je ale zložitosť samotného modelu. Priveľmi rozvetvené stromy, s veľmi bohatou štruktúrou sú veľmi ťažko čitateľné a neprehľadné, čím strácajú tento benefit. \n",
    "\n",
    "Skúsme sa pozrieť, asi ako vyzerá rozhodovací strom pre implicitne nastavený stromový klasifikátor natrénovaný na trénovacích dátach datasetu Titanic.\n",
    "\n",
    "V jazyku Python a knižnici Scikit-learn existuje niekoľko spôsobov, ako stromové modely vizualizovať. Väčšina zahŕňa inštaláciu externých progamov ako GraphViz, resp. rôznych ďalších modulov, preto pre účely cvičenia použijeme iba export stromu do súboru v GraphViz formáte. Vytvorený súbor (súbor s príponou `.dot`) môžeme potom otvoriť a strom zobraziť vo webovej verzii aplikácie GraphViz. Tá je dostupná na www.webgraphivz.com.\n",
    "\n",
    "Na export natrénovaného rozhodovacieho stromu použijeme funkciu Scikit-learn `export_graphviz()`. Tej špecifikujeme ako parameter stromový model, ktorý chceme vykresliť, `feature_names` obsahujúci zoznam hlavičiek atribútov (kvôli vykresľovaniu uzlov), `class_names` obsahujúci zoznam hodnôt cieľového atribútu a výstupný súbor, do ktorého vizualizáciu uložíme."
   ]
  },
  {
   "cell_type": "code",
   "execution_count": 50,
   "metadata": {},
   "outputs": [],
   "source": [
    "from sklearn import tree\n",
    "from sklearn.tree import export_graphviz\n",
    "\n",
    "with open(\"decision_tree.txt\", \"w\") as f:\n",
    "    f = tree.export_graphviz(dt, feature_names=X_titanic.columns.values, class_names=['0','1'], out_file=f)"
   ]
  },
  {
   "cell_type": "markdown",
   "metadata": {},
   "source": [
    "Po spustení tohoto odstavca uvidíte v prehliadači súborov Jupyter Labu vľavo súbor `decision_tree.txt`. Otvorte ho (dá sa otvoriť aj priamo v Jupyter prostredí) a skopírujte jeho kompletný obsah do okna webovej aplikácie www.webgraphviz.com. V nej po stlačení tlačidla Generate Graph vygenerujete vizualizáciu rozhodovacieho stromu. Preskúmajte ju. \n",
    "\n",
    "#### Úloha 12.2.\n",
    "\n",
    "Ak je výsledný strom príliš zložitý a nečitateľný - ktorý z parametrov by ste použili a s akou hodnotou, aby ste vygenerovali všeobecnejší a prehľadnejší strom? Upravte kód trénovania modelu a natrénujte model s identifikovaným a nastaveným parametrom a natrénujte takýto model. Potom ho vizualizujte a porovnajte s modelom natrénovaným bez nastavení parametrov."
   ]
  },
  {
   "cell_type": "markdown",
   "metadata": {},
   "source": [
    "### Reprezentácia modelu pomocou pravidiel\n",
    "\n",
    "Rozhodovacie stromy okrem vizualizácie umožňujú odlišný spôsob prezentácie štruktúry modelu - a to tak, že zo štruktúry stromu vygenerujeme pravidlá. Takéto pravidlá môžu byť v tvare `if` podmienka `then` záver. Môžu byť extrahované priamo zo štruktúry stromu a zodpovedajú jednotlivým testom (podmienka) a vetveniam (závery). \n",
    "\n",
    "Nižšie je kód funkcie `tree_to_code`, ktorú môžeme použiť na pretransformovanie stromovej štruktúry do pravidiel. Funkcia obsahuje implementované odsadenie vypisovania textu časti pravidiel pre zlepšenie citateľnosti výstupu.\n",
    "\n",
    "Spustite funkciu na vytvorenom stromovom modeli a porovnajte extrahované pravidlá so stromovou štruktúrou:"
   ]
  },
  {
   "cell_type": "code",
   "execution_count": 17,
   "metadata": {},
   "outputs": [],
   "source": [
    "from sklearn.tree import _tree\n",
    "\n",
    "def tree_to_code(tree, feature_names): \n",
    "\n",
    "\ttree_ = tree.tree_\n",
    "\tfeature_name = [\n",
    "\t\tfeature_names[i] if i != _tree.TREE_UNDEFINED else \"undefined!\"\n",
    "\t\tfor i in tree_.feature\n",
    "\t]\n",
    "\tprint(\"def tree({}):\".format(\", \".join(feature_names)))\n",
    "\n",
    "\tdef recurse(node, depth):\n",
    "\t\tindent = \"  \" * depth\n",
    "\t\tif tree_.feature[node] != _tree.TREE_UNDEFINED:\n",
    "\t\t\tname = feature_name[node]\n",
    "\t\t\tthreshold = tree_.threshold[node]\n",
    "\t\t\tprint(\"{}if {} <= {}:\".format(indent, name, threshold))\n",
    "\t\t\trecurse(tree_.children_left[node], depth + 1)\n",
    "\t\t\tprint(\"{}else:  # if {} > {}\".format(indent, name, threshold))\n",
    "\t\t\trecurse(tree_.children_right[node], depth + 1)\n",
    "\t\telse:\n",
    "\t\t\tprint(\"{}return {}\".format(indent, tree_.value[node]))\n",
    "\n",
    "\trecurse(0, 1)"
   ]
  },
  {
   "cell_type": "code",
   "execution_count": 18,
   "metadata": {},
   "outputs": [
    {
     "name": "stdout",
     "output_type": "stream",
     "text": [
      "def tree(pclass, sex, age, sibsp, parch, fare, family, has_family, embarked_Cherbourg, embarked_Queenstown, embarked_Southampton, title_short_Miss, title_short_Mr, title_short_Mrs, title_short_rare title):\n",
      "  if title_short_Mr <= 0.5:\n",
      "    if pclass <= 2.5:\n",
      "      if sex <= 0.5:\n",
      "        return [[14. 18.]]\n",
      "      else:  # if sex > 0.5\n",
      "        return [[ 12. 160.]]\n",
      "    else:  # if pclass > 2.5\n",
      "      if family <= 3.5:\n",
      "        return [[67. 77.]]\n",
      "      else:  # if family > 3.5\n",
      "        return [[33.  2.]]\n",
      "  else:  # if title_short_Mr > 0.5\n",
      "    if pclass <= 1.5:\n",
      "      if age <= 49.5:\n",
      "        return [[50. 33.]]\n",
      "      else:  # if age > 49.5\n",
      "        return [[21.  3.]]\n",
      "    else:  # if pclass > 1.5\n",
      "      if fare <= 51.69790077209473:\n",
      "        return [[366.  45.]]\n",
      "      else:  # if fare > 51.69790077209473\n",
      "        return [[10.  5.]]\n"
     ]
    }
   ],
   "source": [
    "# zavoláme funkciu tree_to_code na vytvorenom modeli dt, názvy atribútov sú X_titanic.column.values\n",
    "\n",
    "tree_to_code(dt, X_titanic.columns.values)"
   ]
  },
  {
   "cell_type": "markdown",
   "metadata": {},
   "source": [
    "Dôležitosť atribútov pre klasifikáciu vieme spočítať aj separátne. Môžeme na to použiť napr. funkciu `SelectKBest`, pomocou ktorej vieme odfiltrovať `k` najpodstatnejších atribútov pre tvorbu modelu. Vieme ju takisto použiť pre spočítanie dôležitosti atribútov a selekciu spraviť manuálne. "
   ]
  },
  {
   "cell_type": "code",
   "execution_count": 94,
   "metadata": {},
   "outputs": [
    {
     "name": "stdout",
     "output_type": "stream",
     "text": [
      "[0.05728114 0.12863187 0.0321115  0.02068387 0.03234877 0.14322065\n",
      " 0.0440483  0.01048017 0.01079009 0.         0.01510476 0.03079979\n",
      " 0.12961269 0.08206359 0.        ]\n",
      "[0.0629097  0.12857766 0.05326302 0.02473353 0.         0.14671794\n",
      " 0.03760613 0.02268626 0.         0.00476595 0.01041878 0.04362564\n",
      " 0.11500868 0.05668449 0.01854924]\n"
     ]
    }
   ],
   "source": [
    "from sklearn.feature_selection import SelectKBest, mutual_info_classif\n",
    "\n",
    "fs = SelectKBest(score_func=mutual_info_classif, k=\"all\").fit(X_train, y_train)\n",
    "print(fs.scores_)"
   ]
  },
  {
   "cell_type": "markdown",
   "metadata": {},
   "source": [
    "Funkcia mutual_info_classif môže vniesť do výpočtu náhodný faktor (pri počítaní dôložitosti atribútu). Túto je možné odstrániť buď spriemernením viacerých spustení selektora, prípadne môžeme spustiť výpočet koeficientu samostatne, s definovanou hodnotou parametra `random_state`, ktorý zabezpečí rovnaký výber pri zopakovaní výberu. "
   ]
  },
  {
   "cell_type": "code",
   "execution_count": 95,
   "metadata": {},
   "outputs": [
    {
     "name": "stdout",
     "output_type": "stream",
     "text": [
      "[0.05728114 0.12863187 0.0321115  0.02068387 0.03234877 0.14322065\n",
      " 0.0440483  0.01048017 0.01079009 0.         0.01510476 0.03079979\n",
      " 0.12961269 0.08206359 0.        ]\n"
     ]
    }
   ],
   "source": [
    "print(mutual_info_classif(X_train, y_train, random_state = 123))"
   ]
  },
  {
   "cell_type": "markdown",
   "metadata": {},
   "source": [
    "Dôležitosť atribútov potom vieme vypísať na obrazovku alebo vykresliť do grafu. "
   ]
  },
  {
   "cell_type": "code",
   "execution_count": 86,
   "metadata": {},
   "outputs": [
    {
     "name": "stdout",
     "output_type": "stream",
     "text": [
      "Atribut 0: 0.077337\n",
      "Atribut 1: 0.145851\n",
      "Atribut 2: 0.044984\n",
      "Atribut 3: 0.059176\n",
      "Atribut 4: 0.039227\n",
      "Atribut 5: 0.120642\n",
      "Atribut 6: 0.048608\n",
      "Atribut 7: 0.000000\n",
      "Atribut 8: 0.000000\n",
      "Atribut 9: 0.022882\n",
      "Atribut 10: 0.022779\n",
      "Atribut 11: 0.048657\n",
      "Atribut 12: 0.156315\n",
      "Atribut 13: 0.033132\n",
      "Atribut 14: 0.000000\n"
     ]
    },
    {
     "data": {
      "image/png": "[encoded data removed]",
      "text/plain": [
       "<Figure size 432x288 with 1 Axes>"
      ]
     },
     "metadata": {
      "needs_background": "light"
     },
     "output_type": "display_data"
    }
   ],
   "source": [
    "for i in range(len(fs.scores_)):\n",
    "\tprint('Atribut %d: %f' % (i, fs.scores_[i]))\n",
    "    \n",
    "    \n",
    "plt.bar([i for i in range(len(fs.scores_))], fs.scores_)\n",
    "plt.show()"
   ]
  },
  {
   "cell_type": "markdown",
   "metadata": {},
   "source": [
    "#### Úloha 12.3.\n",
    "\n",
    "Použite Grid Search pre nájdenie optimálnej kombinácie parametrov modelu rozhodovacieho stromu na dátach Titanic. V Grid Search použite 5-násobnú krížovú validáciu a ako metriku vyhodnotenia použite `accuracy`. Identifikujte najlepší model vypíšte preň metriky presnosti a návratnosti (vypíšte aj kontigenčnú tabuľku - confusion matrix)."
   ]
  },
  {
   "cell_type": "code",
   "execution_count": 37,
   "metadata": {},
   "outputs": [
    {
     "name": "stdout",
     "output_type": "stream",
     "text": [
      "{'criterion': ['gini', 'entropy'], 'max_depth': [1, 2, 3, 4, 5, 6, 7, 8, 9, 10], 'min_samples_split': [2, 4, 8, 10], 'min_samples_leaf': [1, 5, 10, 15], 'presort': [True, False]}\n",
      "Najlepšia kombinácia parametrov je:\n",
      "{'criterion': 'entropy', 'max_depth': 4, 'min_samples_leaf': 1, 'min_samples_split': 2, 'presort': True}\n",
      "\n",
      "A hodnota presnosti modelu pri tejto kombinacii je:\n",
      "0.8100436681222707\n"
     ]
    }
   ],
   "source": [
    "# YOUR CODE HERE\n",
    "from sklearn.model_selection import GridSearchCV \n",
    "\n",
    "# naplnime si najprv zoznamy jednotlivych hodnot parametrov pre algoritmus rozhodovacich stromov\n",
    "\n",
    "criterion_range = ['gini', 'entropy'] # kritérium pre výber atribútu: \"gini\" alebo \"entropy\"\n",
    "max_depth_range = [1, 2, 3, 4, 5, 6, 7, 8, 9, 10] # maximálna hĺbka stromu (ak je nastavená na None, expanduje sa kompletný strom)\n",
    "min_samples_split_range = [2, 4, 8, 10] # najmenší počet príkladov potrebných pre vetvenie uzlu\n",
    "min_samples_leaf_range = [1, 5, 10, 15] # najmenší možný počet príkladov v listovom uzle\n",
    "presort_range = [True, False] # True/False - utriedenie atribútov pre urýchlenie trénovania\n",
    "\n",
    "# teraz z hodnot parametrov vytvorime param_grid\n",
    "param_grid = dict(criterion=criterion_range, max_depth=max_depth_range, min_samples_split = min_samples_split_range, min_samples_leaf = min_samples_leaf_range, presort = presort_range )\n",
    "print(param_grid)\n",
    "\n",
    "# inicializujeme stromovy klasifikator bez nastaveni parametrov, ktore chceme hladat Grid Searchom\n",
    "dtree = DecisionTreeClassifier()\n",
    "\n",
    "# nastavime samotny Grid Search - model dtree vytvoreny predoslym prikazom, predame mu nastavene pole parametrov a nastavime validaciu a metriku\n",
    "grid = GridSearchCV(estimator=dtree, param_grid=param_grid, cv=10, scoring='accuracy') # nastavíme parametre Grid Searchu\n",
    "grid.fit(X_train, y_train) # naučíme Grid Search na trénovacích dátach\n",
    "\n",
    "# vypiseme kombinaciu parametrov najlepsieho modelu a jeho skore pri validacii\n",
    "print(\"Najlepšia kombinácia parametrov je:\")\n",
    "print(grid.best_params_)\n",
    "print()\n",
    "print(\"A hodnota presnosti modelu pri tejto kombinacii je:\")\n",
    "print(grid.best_score_)"
   ]
  },
  {
   "cell_type": "code",
   "execution_count": 32,
   "metadata": {},
   "outputs": [
    {
     "name": "stdout",
     "output_type": "stream",
     "text": [
      "Accuracy: 0.809\n",
      "Precision: 0.831\n",
      "Recall: 0.656\n",
      "[[215  21]\n",
      " [ 54 103]]\n"
     ]
    }
   ],
   "source": [
    "# najdeny model teda natrenujeme a otestujeme na testovacej mnozine\n",
    "dtree = DecisionTreeClassifier(criterion='entropy', max_depth=4, min_samples_leaf=1, min_samples_split=2, presort=True)\n",
    "dtree.fit(X_train, y_train)\n",
    "y_dtree=dtree.predict(X_test)\n",
    "\n",
    "from sklearn.metrics import confusion_matrix, precision_score, recall_score\n",
    "\n",
    "# vypocitame a vypiseme metriky precision a recall a confusion matrix modelu na testovacej mnozine\n",
    "print(\"Accuracy: %0.3f\" % accuracy_score(y_test, y_dtree))\n",
    "print(\"Precision: %0.3f\" % precision_score(y_test, y_dtree))\n",
    "print(\"Recall: %0.3f\" % recall_score(y_test, y_dtree))\n",
    "print(confusion_matrix(y_test, y_dtree))"
   ]
  },
  {
   "cell_type": "markdown",
   "metadata": {},
   "source": [
    "#### Úloha 12.4.\n",
    "\n",
    "Z výsledkov Grid Search zistite a vykreslite vzájomnú závislosť presnosti modelu od parametra udávajúceho maximálnu hĺbku stromu. Na vizualizáciu použite matplotlib. "
   ]
  },
  {
   "cell_type": "code",
   "execution_count": 36,
   "metadata": {},
   "outputs": [
    {
     "name": "stdout",
     "output_type": "stream",
     "text": [
      "{'max_depth': [1, 2, 3, 4, 5, 6, 7, 8, 9, 10]}\n"
     ]
    },
    {
     "data": {
      "text/plain": [
       "Text(0, 0.5, 'Presnost modelu')"
      ]
     },
     "execution_count": 36,
     "metadata": {},
     "output_type": "execute_result"
    },
    {
     "data": {
      "image/png": "[encoded data removed]",
      "text/plain": [
       "<Figure size 432x288 with 1 Axes>"
      ]
     },
     "metadata": {
      "needs_background": "light"
     },
     "output_type": "display_data"
    }
   ],
   "source": [
    "# YOUR CODE HERE\n",
    "\n",
    "max_depth_range = [1, 2, 3, 4, 5, 6, 7, 8, 9, 10] # maximálna hĺbka stromu (ak je nastavená na None, expanduje sa kompletný strom)\n",
    "\n",
    "# teraz z hodnot parametrov vytvorime param_grid\n",
    "param_grid = dict(max_depth=max_depth_range)\n",
    "print(param_grid)\n",
    "\n",
    "# inicializujeme stromovy klasifikator bez nastaveni parametrov, ktore chceme hladat Grid Searchom\n",
    "dtree2 = DecisionTreeClassifier()\n",
    "\n",
    "# nastavime samotny Grid Search - model dtree vytvoreny predoslym prikazom, predame mu nastavene pole parametrov a nastavime validaciu a metriku\n",
    "grid = GridSearchCV(estimator=dtree2, param_grid=param_grid, cv=10, scoring='accuracy') # nastavíme parametre Grid Searchu\n",
    "grid.fit(X_train, y_train)\n",
    "\n",
    "plt.plot(max_depth_range, grid.cv_results_[\"mean_test_score\"])\n",
    "plt.xlabel('Max. hlbka stromu')\n",
    "plt.ylabel('Presnost modelu')"
   ]
  },
  {
   "cell_type": "code",
   "execution_count": null,
   "metadata": {},
   "outputs": [],
   "source": []
  }
 ],
 "metadata": {
  "kernelspec": {
   "display_name": "Python 3",
   "language": "python",
   "name": "python3"
  },
  "language_info": {
   "codemirror_mode": {
    "name": "ipython",
    "version": 3
   },
   "file_extension": ".py",
   "mimetype": "text/x-python",
   "name": "python",
   "nbconvert_exporter": "python",
   "pygments_lexer": "ipython3",
   "version": "3.7.4"
  }
 },
 "nbformat": 4,
 "nbformat_minor": 4
}
